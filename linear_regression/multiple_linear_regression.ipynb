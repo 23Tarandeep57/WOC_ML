{
 "cells": [
  {
   "cell_type": "code",
   "execution_count": 1,
   "id": "9a8ebbd0-85ac-4c48-bb86-649461076252",
   "metadata": {},
   "outputs": [],
   "source": [
    "import numpy as np\n",
    "import pandas as pd\n",
    "import matplotlib.pyplot as plt"
   ]
  },
  {
   "cell_type": "code",
   "execution_count": 2,
   "id": "c9b38d3a-795a-4d4e-a75f-5e518faee677",
   "metadata": {},
   "outputs": [],
   "source": [
    "df = pd.read_csv(\"Student_performance.csv\")"
   ]
  },
  {
   "cell_type": "code",
   "execution_count": 3,
   "id": "e9534502-e247-4795-9d7d-9a92df131157",
   "metadata": {},
   "outputs": [],
   "source": [
    "df[\"Extracurricular Activities\"] = df[\"Extracurricular Activities\"].map({\"Yes\": 1, \"No\": 0})"
   ]
  },
  {
   "cell_type": "code",
   "execution_count": 4,
   "id": "27c0208b-491b-40c9-9686-4dfb2bdad659",
   "metadata": {},
   "outputs": [
    {
     "data": {
      "text/html": [
       "<div>\n",
       "<style scoped>\n",
       "    .dataframe tbody tr th:only-of-type {\n",
       "        vertical-align: middle;\n",
       "    }\n",
       "\n",
       "    .dataframe tbody tr th {\n",
       "        vertical-align: top;\n",
       "    }\n",
       "\n",
       "    .dataframe thead th {\n",
       "        text-align: right;\n",
       "    }\n",
       "</style>\n",
       "<table border=\"1\" class=\"dataframe\">\n",
       "  <thead>\n",
       "    <tr style=\"text-align: right;\">\n",
       "      <th></th>\n",
       "      <th>Hours Studied</th>\n",
       "      <th>Previous Scores</th>\n",
       "      <th>Extracurricular Activities</th>\n",
       "      <th>Sleep Hours</th>\n",
       "      <th>Sample Question Papers Practiced</th>\n",
       "      <th>Performance Index</th>\n",
       "    </tr>\n",
       "  </thead>\n",
       "  <tbody>\n",
       "    <tr>\n",
       "      <th>0</th>\n",
       "      <td>7</td>\n",
       "      <td>99</td>\n",
       "      <td>1</td>\n",
       "      <td>9</td>\n",
       "      <td>1</td>\n",
       "      <td>91.0</td>\n",
       "    </tr>\n",
       "    <tr>\n",
       "      <th>1</th>\n",
       "      <td>4</td>\n",
       "      <td>82</td>\n",
       "      <td>0</td>\n",
       "      <td>4</td>\n",
       "      <td>2</td>\n",
       "      <td>65.0</td>\n",
       "    </tr>\n",
       "    <tr>\n",
       "      <th>2</th>\n",
       "      <td>8</td>\n",
       "      <td>51</td>\n",
       "      <td>1</td>\n",
       "      <td>7</td>\n",
       "      <td>2</td>\n",
       "      <td>45.0</td>\n",
       "    </tr>\n",
       "    <tr>\n",
       "      <th>3</th>\n",
       "      <td>5</td>\n",
       "      <td>52</td>\n",
       "      <td>1</td>\n",
       "      <td>5</td>\n",
       "      <td>2</td>\n",
       "      <td>36.0</td>\n",
       "    </tr>\n",
       "    <tr>\n",
       "      <th>4</th>\n",
       "      <td>7</td>\n",
       "      <td>75</td>\n",
       "      <td>0</td>\n",
       "      <td>8</td>\n",
       "      <td>5</td>\n",
       "      <td>66.0</td>\n",
       "    </tr>\n",
       "  </tbody>\n",
       "</table>\n",
       "</div>"
      ],
      "text/plain": [
       "   Hours Studied  Previous Scores  Extracurricular Activities  Sleep Hours  \\\n",
       "0              7               99                           1            9   \n",
       "1              4               82                           0            4   \n",
       "2              8               51                           1            7   \n",
       "3              5               52                           1            5   \n",
       "4              7               75                           0            8   \n",
       "\n",
       "   Sample Question Papers Practiced  Performance Index  \n",
       "0                                 1               91.0  \n",
       "1                                 2               65.0  \n",
       "2                                 2               45.0  \n",
       "3                                 2               36.0  \n",
       "4                                 5               66.0  "
      ]
     },
     "execution_count": 4,
     "metadata": {},
     "output_type": "execute_result"
    }
   ],
   "source": [
    "df.head()"
   ]
  },
  {
   "cell_type": "code",
   "execution_count": 5,
   "id": "c1dca9d2-c1ba-4483-9eb5-63c8b238b8c4",
   "metadata": {},
   "outputs": [
    {
     "data": {
      "text/html": [
       "<div>\n",
       "<style scoped>\n",
       "    .dataframe tbody tr th:only-of-type {\n",
       "        vertical-align: middle;\n",
       "    }\n",
       "\n",
       "    .dataframe tbody tr th {\n",
       "        vertical-align: top;\n",
       "    }\n",
       "\n",
       "    .dataframe thead th {\n",
       "        text-align: right;\n",
       "    }\n",
       "</style>\n",
       "<table border=\"1\" class=\"dataframe\">\n",
       "  <thead>\n",
       "    <tr style=\"text-align: right;\">\n",
       "      <th></th>\n",
       "      <th>Hours Studied</th>\n",
       "      <th>Previous Scores</th>\n",
       "      <th>Extracurricular Activities</th>\n",
       "      <th>Sleep Hours</th>\n",
       "      <th>Sample Question Papers Practiced</th>\n",
       "      <th>Performance Index</th>\n",
       "    </tr>\n",
       "  </thead>\n",
       "  <tbody>\n",
       "    <tr>\n",
       "      <th>count</th>\n",
       "      <td>10000.000000</td>\n",
       "      <td>10000.000000</td>\n",
       "      <td>10000.000000</td>\n",
       "      <td>10000.000000</td>\n",
       "      <td>10000.000000</td>\n",
       "      <td>10000.000000</td>\n",
       "    </tr>\n",
       "    <tr>\n",
       "      <th>mean</th>\n",
       "      <td>4.992900</td>\n",
       "      <td>69.445700</td>\n",
       "      <td>0.494800</td>\n",
       "      <td>6.530600</td>\n",
       "      <td>4.583300</td>\n",
       "      <td>55.224800</td>\n",
       "    </tr>\n",
       "    <tr>\n",
       "      <th>std</th>\n",
       "      <td>2.589309</td>\n",
       "      <td>17.343152</td>\n",
       "      <td>0.499998</td>\n",
       "      <td>1.695863</td>\n",
       "      <td>2.867348</td>\n",
       "      <td>19.212558</td>\n",
       "    </tr>\n",
       "    <tr>\n",
       "      <th>min</th>\n",
       "      <td>1.000000</td>\n",
       "      <td>40.000000</td>\n",
       "      <td>0.000000</td>\n",
       "      <td>4.000000</td>\n",
       "      <td>0.000000</td>\n",
       "      <td>10.000000</td>\n",
       "    </tr>\n",
       "    <tr>\n",
       "      <th>25%</th>\n",
       "      <td>3.000000</td>\n",
       "      <td>54.000000</td>\n",
       "      <td>0.000000</td>\n",
       "      <td>5.000000</td>\n",
       "      <td>2.000000</td>\n",
       "      <td>40.000000</td>\n",
       "    </tr>\n",
       "    <tr>\n",
       "      <th>50%</th>\n",
       "      <td>5.000000</td>\n",
       "      <td>69.000000</td>\n",
       "      <td>0.000000</td>\n",
       "      <td>7.000000</td>\n",
       "      <td>5.000000</td>\n",
       "      <td>55.000000</td>\n",
       "    </tr>\n",
       "    <tr>\n",
       "      <th>75%</th>\n",
       "      <td>7.000000</td>\n",
       "      <td>85.000000</td>\n",
       "      <td>1.000000</td>\n",
       "      <td>8.000000</td>\n",
       "      <td>7.000000</td>\n",
       "      <td>71.000000</td>\n",
       "    </tr>\n",
       "    <tr>\n",
       "      <th>max</th>\n",
       "      <td>9.000000</td>\n",
       "      <td>99.000000</td>\n",
       "      <td>1.000000</td>\n",
       "      <td>9.000000</td>\n",
       "      <td>9.000000</td>\n",
       "      <td>100.000000</td>\n",
       "    </tr>\n",
       "  </tbody>\n",
       "</table>\n",
       "</div>"
      ],
      "text/plain": [
       "       Hours Studied  Previous Scores  Extracurricular Activities  \\\n",
       "count   10000.000000     10000.000000                10000.000000   \n",
       "mean        4.992900        69.445700                    0.494800   \n",
       "std         2.589309        17.343152                    0.499998   \n",
       "min         1.000000        40.000000                    0.000000   \n",
       "25%         3.000000        54.000000                    0.000000   \n",
       "50%         5.000000        69.000000                    0.000000   \n",
       "75%         7.000000        85.000000                    1.000000   \n",
       "max         9.000000        99.000000                    1.000000   \n",
       "\n",
       "        Sleep Hours  Sample Question Papers Practiced  Performance Index  \n",
       "count  10000.000000                      10000.000000       10000.000000  \n",
       "mean       6.530600                          4.583300          55.224800  \n",
       "std        1.695863                          2.867348          19.212558  \n",
       "min        4.000000                          0.000000          10.000000  \n",
       "25%        5.000000                          2.000000          40.000000  \n",
       "50%        7.000000                          5.000000          55.000000  \n",
       "75%        8.000000                          7.000000          71.000000  \n",
       "max        9.000000                          9.000000         100.000000  "
      ]
     },
     "execution_count": 5,
     "metadata": {},
     "output_type": "execute_result"
    }
   ],
   "source": [
    "df.describe()"
   ]
  },
  {
   "cell_type": "code",
   "execution_count": 6,
   "id": "0c252d23-5c7a-4de7-a664-b11737782896",
   "metadata": {},
   "outputs": [],
   "source": [
    "x_train = df.sample(frac=0.8, random_state=42)\n",
    "x_test = df.drop(x_train.index)\n",
    "y_train = x_train.pop(\"Performance Index\").values\n",
    "y_test = x_test.pop(\"Performance Index\").values"
   ]
  },
  {
   "cell_type": "code",
   "execution_count": 7,
   "id": "fea16e5a-43ab-4b04-8024-807893fde13c",
   "metadata": {},
   "outputs": [
    {
     "data": {
      "text/html": [
       "<div>\n",
       "<style scoped>\n",
       "    .dataframe tbody tr th:only-of-type {\n",
       "        vertical-align: middle;\n",
       "    }\n",
       "\n",
       "    .dataframe tbody tr th {\n",
       "        vertical-align: top;\n",
       "    }\n",
       "\n",
       "    .dataframe thead th {\n",
       "        text-align: right;\n",
       "    }\n",
       "</style>\n",
       "<table border=\"1\" class=\"dataframe\">\n",
       "  <thead>\n",
       "    <tr style=\"text-align: right;\">\n",
       "      <th></th>\n",
       "      <th>Hours Studied</th>\n",
       "      <th>Previous Scores</th>\n",
       "      <th>Extracurricular Activities</th>\n",
       "      <th>Sleep Hours</th>\n",
       "      <th>Sample Question Papers Practiced</th>\n",
       "    </tr>\n",
       "  </thead>\n",
       "  <tbody>\n",
       "    <tr>\n",
       "      <th>6252</th>\n",
       "      <td>5</td>\n",
       "      <td>69</td>\n",
       "      <td>0</td>\n",
       "      <td>8</td>\n",
       "      <td>2</td>\n",
       "    </tr>\n",
       "    <tr>\n",
       "      <th>4684</th>\n",
       "      <td>2</td>\n",
       "      <td>46</td>\n",
       "      <td>1</td>\n",
       "      <td>4</td>\n",
       "      <td>8</td>\n",
       "    </tr>\n",
       "    <tr>\n",
       "      <th>1731</th>\n",
       "      <td>7</td>\n",
       "      <td>56</td>\n",
       "      <td>1</td>\n",
       "      <td>7</td>\n",
       "      <td>5</td>\n",
       "    </tr>\n",
       "    <tr>\n",
       "      <th>4742</th>\n",
       "      <td>6</td>\n",
       "      <td>42</td>\n",
       "      <td>1</td>\n",
       "      <td>8</td>\n",
       "      <td>5</td>\n",
       "    </tr>\n",
       "    <tr>\n",
       "      <th>4521</th>\n",
       "      <td>7</td>\n",
       "      <td>53</td>\n",
       "      <td>0</td>\n",
       "      <td>4</td>\n",
       "      <td>6</td>\n",
       "    </tr>\n",
       "  </tbody>\n",
       "</table>\n",
       "</div>"
      ],
      "text/plain": [
       "      Hours Studied  Previous Scores  Extracurricular Activities  Sleep Hours  \\\n",
       "6252              5               69                           0            8   \n",
       "4684              2               46                           1            4   \n",
       "1731              7               56                           1            7   \n",
       "4742              6               42                           1            8   \n",
       "4521              7               53                           0            4   \n",
       "\n",
       "      Sample Question Papers Practiced  \n",
       "6252                                 2  \n",
       "4684                                 8  \n",
       "1731                                 5  \n",
       "4742                                 5  \n",
       "4521                                 6  "
      ]
     },
     "execution_count": 7,
     "metadata": {},
     "output_type": "execute_result"
    }
   ],
   "source": [
    "x_train.head()"
   ]
  },
  {
   "cell_type": "code",
   "execution_count": 8,
   "id": "1072cd1a-d253-4901-a1d8-dd9f94a1b324",
   "metadata": {},
   "outputs": [
    {
     "data": {
      "text/plain": [
       "array([51., 20., 46., ..., 36., 90., 46.])"
      ]
     },
     "execution_count": 8,
     "metadata": {},
     "output_type": "execute_result"
    }
   ],
   "source": [
    "y_train"
   ]
  },
  {
   "cell_type": "code",
   "execution_count": 9,
   "id": "dd8e88e0-210f-48ee-937e-b1ce331e0e75",
   "metadata": {},
   "outputs": [],
   "source": [
    "def normal_elements(x):\n",
    "    meu = np.mean(x, axis = 0)\n",
    "    max = np.max(x, axis = 0)\n",
    "    min = np.min(x, axis = 0)\n",
    "    return meu, max, min"
   ]
  },
  {
   "cell_type": "code",
   "execution_count": 28,
   "id": "e285b17d-def3-4f56-850d-24c6d5ba02ee",
   "metadata": {},
   "outputs": [],
   "source": [
    "def normalisation(x, meu, max, min):\n",
    "    n_x = (x - meu)/(max - min)\n",
    "    return n_x"
   ]
  },
  {
   "cell_type": "code",
   "execution_count": 11,
   "id": "f99b013a-cf42-4b18-837c-44e3dd3a9789",
   "metadata": {},
   "outputs": [],
   "source": [
    "def initialising_para(x):\n",
    "    m , n = x.shape\n",
    "    w = np.zeros(n,)\n",
    "    b = 0\n",
    "    return w, b"
   ]
  },
  {
   "cell_type": "code",
   "execution_count": 29,
   "id": "88f17ca6-5906-4b77-b24d-d0d8cf51161f",
   "metadata": {},
   "outputs": [],
   "source": [
    "def cost_funtion(w,b, x, y):\n",
    "    m, n = x.shape\n",
    "    y_hat = np.dot(x, w) + b\n",
    "    cost = np.sum(np.square(y - y_hat))\n",
    "    cost /= (2*m)\n",
    "    return cost"
   ]
  },
  {
   "cell_type": "code",
   "execution_count": 13,
   "id": "5cdba8c1-05e8-4462-8fad-16fb2d6c1280",
   "metadata": {},
   "outputs": [],
   "source": [
    "def derivatives(x, w, b, y):\n",
    "    m, n = x.shape\n",
    "    y_hat = np.dot(x, w) + b \n",
    "    error = y_hat - y\n",
    "    dj_dw = (np.dot(x.T, error)) / m\n",
    "    dj_db = np.sum(error) / m\n",
    "\n",
    "    return dj_dw, dj_db"
   ]
  },
  {
   "cell_type": "code",
   "execution_count": 14,
   "id": "4dec3f36-dfd6-48e5-a851-7a1c0f7c9198",
   "metadata": {},
   "outputs": [],
   "source": [
    "def update_para(w, b, x, y, alpha):\n",
    "    dj_dw, dj_db = derivatives(x, w, b, y) \n",
    "    w = w - alpha*dj_dw\n",
    "    b = b - alpha*dj_db\n",
    "    return w, b"
   ]
  },
  {
   "cell_type": "code",
   "execution_count": 15,
   "id": "21ee8bc4-cd64-4f2f-aa22-59cc620c7de7",
   "metadata": {},
   "outputs": [
    {
     "name": "stdout",
     "output_type": "stream",
     "text": [
      "iteration 0: cost 1416.395727137026\n",
      "iteration 100: cost 32.682469376012726\n",
      "iteration 200: cost 7.37744578613244\n",
      "iteration 300: cost 2.9986649737910493\n",
      "iteration 400: cost 2.2347693669858253\n",
      "iteration 500: cost 2.100759266391944\n",
      "iteration 600: cost 2.077160393245953\n"
     ]
    }
   ],
   "source": [
    "num_iters = 700\n",
    "meu, max, min = normal_elements(x_train)\n",
    "normal_x_train = normalisation(x_train, meu, max, min)\n",
    "w, b = initialising_para(x_train)\n",
    "j_his = []\n",
    "alpha = 0.1\n",
    "for i in range(num_iters):\n",
    "    w, b = update_para(w, b, normal_x_train, y_train, alpha)\n",
    "    j = cost_funtion(w, b, normal_x_train, y_train)\n",
    "    if (i % 100 == 0):\n",
    "        print(f\"iteration {i}: cost {j}\")\n",
    "    j_his.append(j)"
   ]
  },
  {
   "cell_type": "code",
   "execution_count": 26,
   "id": "67a730fb-f439-40c4-87ce-b11e84b076b9",
   "metadata": {},
   "outputs": [
    {
     "data": {
      "image/png": "[encoded data removed]",
      "text/plain": [
       "<Figure size 640x480 with 1 Axes>"
      ]
     },
     "metadata": {},
     "output_type": "display_data"
    }
   ],
   "source": [
    "plt.plot(np.arange(num_iters), j_his)\n",
    "plt.show()"
   ]
  },
  {
   "cell_type": "code",
   "execution_count": 19,
   "id": "dff412bd-b2b2-40d4-8f67-7a190613462d",
   "metadata": {},
   "outputs": [],
   "source": [
    "normal_x_test = normalisation(x_test, meu, max, min)\n",
    "y_hat_test = np.dot(normal_x_test, w) + b\n",
    "test_err = y_hat_test - y_test\n"
   ]
  },
  {
   "cell_type": "code",
   "execution_count": 20,
   "id": "a9a59620-db66-46fc-a493-24555f9aad9d",
   "metadata": {},
   "outputs": [
    {
     "name": "stdout",
     "output_type": "stream",
     "text": [
      "-8.749851595244571\n",
      "8.59435219271515\n",
      "-0.07083679286430757\n",
      "2.0443573552279806\n"
     ]
    }
   ],
   "source": [
    "print(np.min(test_err))\n",
    "print(np.max(test_err))\n",
    "print(np.mean(test_err))\n",
    "print(np.std(test_err))"
   ]
  },
  {
   "cell_type": "code",
   "execution_count": 23,
   "id": "237703f3-18e6-4cbc-a33f-f7047c8759e8",
   "metadata": {},
   "outputs": [
    {
     "data": {
      "text/plain": [
       "0.9888170269330329"
      ]
     },
     "execution_count": 23,
     "metadata": {},
     "output_type": "execute_result"
    }
   ],
   "source": [
    "gr2_test = np.sum(np.square(y_test - y_hat_test))\n",
    "yr2_test = np.sum(np.square(y_test - np.mean(y_test)))\n",
    "1 - (gr2_test / yr2_test)"
   ]
  },
  {
   "cell_type": "code",
   "execution_count": 24,
   "id": "5790633c-6730-48fb-b715-09d7ebbdc66a",
   "metadata": {},
   "outputs": [],
   "source": [
    "y_hat_train = np.dot(normal_x_train, w) + b"
   ]
  },
  {
   "cell_type": "code",
   "execution_count": 25,
   "id": "76eb8366-e7f4-4b0c-9e00-08e6971903b9",
   "metadata": {},
   "outputs": [
    {
     "data": {
      "text/plain": [
       "0.98872787925038"
      ]
     },
     "execution_count": 25,
     "metadata": {},
     "output_type": "execute_result"
    }
   ],
   "source": [
    "gr2_train = np.sum(np.square(y_train - y_hat_train))\n",
    "yr2_train = np.sum(np.square(y_train - np.mean(y_train)))\n",
    "1 - (gr2_train / yr2_train)"
   ]
  },
  {
   "cell_type": "code",
   "execution_count": null,
   "id": "badce467-463e-43c8-8432-281834887348",
   "metadata": {},
   "outputs": [],
   "source": []
  }
 ],
 "metadata": {
  "kernelspec": {
   "display_name": "Python 3 (ipykernel)",
   "language": "python",
   "name": "python3"
  },
  "language_info": {
   "codemirror_mode": {
    "name": "ipython",
    "version": 3
   },
   "file_extension": ".py",
   "mimetype": "text/x-python",
   "name": "python",
   "nbconvert_exporter": "python",
   "pygments_lexer": "ipython3",
   "version": "3.11.4"
  }
 },
 "nbformat": 4,
 "nbformat_minor": 5
}
