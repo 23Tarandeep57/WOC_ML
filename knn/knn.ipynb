{
 "cells": [
  {
   "cell_type": "code",
   "execution_count": 2,
   "id": "581a6074-1306-4f1d-823e-47b69790c5c8",
   "metadata": {},
   "outputs": [],
   "source": [
    "import numpy as np\n",
    "import pandas as pd\n",
    "import matplotlib.pyplot as plt\n",
    "import statistics as st"
   ]
  },
  {
   "cell_type": "code",
   "execution_count": 21,
   "id": "99cbe4ba-b1d5-4cac-a088-fca0064b5998",
   "metadata": {},
   "outputs": [],
   "source": [
    "df = pd.read_csv(\"Classification_train.csv\")"
   ]
  },
  {
   "cell_type": "code",
   "execution_count": 22,
   "id": "cd889d8d-0ec6-42ef-912d-4d94e9498355",
   "metadata": {},
   "outputs": [
    {
     "data": {
      "text/html": [
       "<div>\n",
       "<style scoped>\n",
       "    .dataframe tbody tr th:only-of-type {\n",
       "        vertical-align: middle;\n",
       "    }\n",
       "\n",
       "    .dataframe tbody tr th {\n",
       "        vertical-align: top;\n",
       "    }\n",
       "\n",
       "    .dataframe thead th {\n",
       "        text-align: right;\n",
       "    }\n",
       "</style>\n",
       "<table border=\"1\" class=\"dataframe\">\n",
       "  <thead>\n",
       "    <tr style=\"text-align: right;\">\n",
       "      <th></th>\n",
       "      <th>label</th>\n",
       "      <th>pixel0</th>\n",
       "      <th>pixel1</th>\n",
       "      <th>pixel2</th>\n",
       "      <th>pixel3</th>\n",
       "      <th>pixel4</th>\n",
       "      <th>pixel5</th>\n",
       "      <th>pixel6</th>\n",
       "      <th>pixel7</th>\n",
       "      <th>pixel8</th>\n",
       "      <th>...</th>\n",
       "      <th>pixel774</th>\n",
       "      <th>pixel775</th>\n",
       "      <th>pixel776</th>\n",
       "      <th>pixel777</th>\n",
       "      <th>pixel778</th>\n",
       "      <th>pixel779</th>\n",
       "      <th>pixel780</th>\n",
       "      <th>pixel781</th>\n",
       "      <th>pixel782</th>\n",
       "      <th>pixel783</th>\n",
       "    </tr>\n",
       "  </thead>\n",
       "  <tbody>\n",
       "    <tr>\n",
       "      <th>0</th>\n",
       "      <td>0</td>\n",
       "      <td>0</td>\n",
       "      <td>0</td>\n",
       "      <td>0</td>\n",
       "      <td>0</td>\n",
       "      <td>0</td>\n",
       "      <td>0</td>\n",
       "      <td>0</td>\n",
       "      <td>0</td>\n",
       "      <td>0</td>\n",
       "      <td>...</td>\n",
       "      <td>0</td>\n",
       "      <td>0</td>\n",
       "      <td>0</td>\n",
       "      <td>0</td>\n",
       "      <td>0</td>\n",
       "      <td>0</td>\n",
       "      <td>0</td>\n",
       "      <td>0</td>\n",
       "      <td>0</td>\n",
       "      <td>0</td>\n",
       "    </tr>\n",
       "    <tr>\n",
       "      <th>1</th>\n",
       "      <td>8</td>\n",
       "      <td>0</td>\n",
       "      <td>0</td>\n",
       "      <td>0</td>\n",
       "      <td>0</td>\n",
       "      <td>0</td>\n",
       "      <td>0</td>\n",
       "      <td>0</td>\n",
       "      <td>0</td>\n",
       "      <td>0</td>\n",
       "      <td>...</td>\n",
       "      <td>0</td>\n",
       "      <td>0</td>\n",
       "      <td>0</td>\n",
       "      <td>0</td>\n",
       "      <td>0</td>\n",
       "      <td>0</td>\n",
       "      <td>0</td>\n",
       "      <td>0</td>\n",
       "      <td>0</td>\n",
       "      <td>0</td>\n",
       "    </tr>\n",
       "    <tr>\n",
       "      <th>2</th>\n",
       "      <td>1</td>\n",
       "      <td>0</td>\n",
       "      <td>0</td>\n",
       "      <td>0</td>\n",
       "      <td>0</td>\n",
       "      <td>0</td>\n",
       "      <td>0</td>\n",
       "      <td>0</td>\n",
       "      <td>0</td>\n",
       "      <td>0</td>\n",
       "      <td>...</td>\n",
       "      <td>0</td>\n",
       "      <td>0</td>\n",
       "      <td>0</td>\n",
       "      <td>0</td>\n",
       "      <td>0</td>\n",
       "      <td>0</td>\n",
       "      <td>0</td>\n",
       "      <td>0</td>\n",
       "      <td>0</td>\n",
       "      <td>0</td>\n",
       "    </tr>\n",
       "    <tr>\n",
       "      <th>3</th>\n",
       "      <td>7</td>\n",
       "      <td>0</td>\n",
       "      <td>0</td>\n",
       "      <td>0</td>\n",
       "      <td>0</td>\n",
       "      <td>0</td>\n",
       "      <td>0</td>\n",
       "      <td>0</td>\n",
       "      <td>0</td>\n",
       "      <td>0</td>\n",
       "      <td>...</td>\n",
       "      <td>0</td>\n",
       "      <td>0</td>\n",
       "      <td>0</td>\n",
       "      <td>0</td>\n",
       "      <td>0</td>\n",
       "      <td>0</td>\n",
       "      <td>0</td>\n",
       "      <td>0</td>\n",
       "      <td>0</td>\n",
       "      <td>0</td>\n",
       "    </tr>\n",
       "    <tr>\n",
       "      <th>4</th>\n",
       "      <td>7</td>\n",
       "      <td>0</td>\n",
       "      <td>0</td>\n",
       "      <td>0</td>\n",
       "      <td>0</td>\n",
       "      <td>0</td>\n",
       "      <td>0</td>\n",
       "      <td>0</td>\n",
       "      <td>0</td>\n",
       "      <td>0</td>\n",
       "      <td>...</td>\n",
       "      <td>0</td>\n",
       "      <td>0</td>\n",
       "      <td>0</td>\n",
       "      <td>0</td>\n",
       "      <td>0</td>\n",
       "      <td>0</td>\n",
       "      <td>0</td>\n",
       "      <td>0</td>\n",
       "      <td>0</td>\n",
       "      <td>0</td>\n",
       "    </tr>\n",
       "  </tbody>\n",
       "</table>\n",
       "<p>5 rows × 785 columns</p>\n",
       "</div>"
      ],
      "text/plain": [
       "   label  pixel0  pixel1  pixel2  pixel3  pixel4  pixel5  pixel6  pixel7  \\\n",
       "0      0       0       0       0       0       0       0       0       0   \n",
       "1      8       0       0       0       0       0       0       0       0   \n",
       "2      1       0       0       0       0       0       0       0       0   \n",
       "3      7       0       0       0       0       0       0       0       0   \n",
       "4      7       0       0       0       0       0       0       0       0   \n",
       "\n",
       "   pixel8  ...  pixel774  pixel775  pixel776  pixel777  pixel778  pixel779  \\\n",
       "0       0  ...         0         0         0         0         0         0   \n",
       "1       0  ...         0         0         0         0         0         0   \n",
       "2       0  ...         0         0         0         0         0         0   \n",
       "3       0  ...         0         0         0         0         0         0   \n",
       "4       0  ...         0         0         0         0         0         0   \n",
       "\n",
       "   pixel780  pixel781  pixel782  pixel783  \n",
       "0         0         0         0         0  \n",
       "1         0         0         0         0  \n",
       "2         0         0         0         0  \n",
       "3         0         0         0         0  \n",
       "4         0         0         0         0  \n",
       "\n",
       "[5 rows x 785 columns]"
      ]
     },
     "execution_count": 22,
     "metadata": {},
     "output_type": "execute_result"
    }
   ],
   "source": [
    "df.head()"
   ]
  },
  {
   "cell_type": "code",
   "execution_count": null,
   "id": "98c2d8b1-7412-4dbf-8e38-9b86ebf130c4",
   "metadata": {},
   "outputs": [],
   "source": []
  },
  {
   "cell_type": "code",
   "execution_count": 36,
   "id": "d29e144d-7c63-44d7-bdb4-0a32d290379a",
   "metadata": {},
   "outputs": [],
   "source": [
    "x_train = df.sample(frac=0.6, random_state=42)\n",
    "temp_df = df.drop(x_train.index)\n",
    "x_dev = temp_df.sample(frac=0.5, random_state=42)\n",
    "x_test = temp_df.drop(x_dev.index)\n",
    "y_train = x_train.pop(\"label\").values\n",
    "y_dev = x_dev.pop(\"label\").values\n",
    "y_test = x_test.pop(\"label\").values"
   ]
  },
  {
   "cell_type": "code",
   "execution_count": 37,
   "id": "f373c1cd-6a81-49d9-80e7-abe3f7bc46a2",
   "metadata": {},
   "outputs": [
    {
     "data": {
      "text/plain": [
       "(6000, 784)"
      ]
     },
     "execution_count": 37,
     "metadata": {},
     "output_type": "execute_result"
    }
   ],
   "source": [
    "x_test.shape"
   ]
  },
  {
   "cell_type": "code",
   "execution_count": 27,
   "id": "f848003e-2ad9-44f9-9618-416955cedbf2",
   "metadata": {},
   "outputs": [],
   "source": [
    "def normi_ele(x):\n",
    "    meu = np.mean(x, axis = 0)\n",
    "    std = np.std(x, axis=0)\n",
    "    return meu, std"
   ]
  },
  {
   "cell_type": "code",
   "execution_count": 28,
   "id": "f84493ec-6241-4f1c-8359-1d28a77cd5b7",
   "metadata": {},
   "outputs": [],
   "source": [
    "def normalise(x, meu, std):\n",
    "    n_x = (x-meu)/std\n",
    "    return n_x"
   ]
  },
  {
   "cell_type": "code",
   "execution_count": 29,
   "id": "303d5a8b-9789-4a07-bba8-0fde473b0f30",
   "metadata": {},
   "outputs": [],
   "source": [
    "def distance(x_test, x, y, k):\n",
    "    dis = np.sum(np.square(x - x_test), axis = 1)\n",
    "    dis = dis.to_numpy()\n",
    "    dis = dis.reshape(x.shape[0], 1)\n",
    "    dis_label = np.append(dis, y, axis=1)\n",
    "    sorted_array = dis_label[dis_label[:, 0].argsort()]\n",
    "    k_sorted_labels = sorted_array[:k,1]\n",
    "    y_hat = st.mode(k_sorted_labels)\n",
    "    return y_hat"
   ]
  },
  {
   "cell_type": "code",
   "execution_count": 30,
   "id": "b03c4c16-a39f-4e0f-be87-295da7203404",
   "metadata": {},
   "outputs": [],
   "source": [
    "def y_hat_list(x_test, x, y, k):\n",
    "    y_hat = []\n",
    "    x_test = x_test.to_numpy()\n",
    "    for i in range(x_test.shape[0]):\n",
    "        y_hat.append(distance(x_test[i], x, y, k))\n",
    "        if i % 100 == 0:\n",
    "            print(f\"iteration: {i}\")\n",
    "    return np.array(y_hat)"
   ]
  },
  {
   "cell_type": "code",
   "execution_count": 31,
   "id": "a34e46af-e8df-43b9-8738-df126e105c64",
   "metadata": {},
   "outputs": [],
   "source": [
    "meu, std = normi_ele(x_train)\n",
    "n_x_train = normalise(x_train, meu, std)\n",
    "n_x_test = normalise(x_test, meu, std)"
   ]
  },
  {
   "cell_type": "code",
   "execution_count": null,
   "id": "ec371c49-151b-4674-b1b5-bc24b0c62efe",
   "metadata": {},
   "outputs": [],
   "source": [
    "performance_lst = []\n",
    "for k_i in range(2, 20): \n",
    "    y_hat = y_hat_list(n_x_test, n_x_train, y_train.reshape(x_train.shape[0], 1), k_i)\n",
    "    sum = np.sum(y_hat == y_test)\n",
    "    performance_lst.append(sum/len(y_test))"
   ]
  },
  {
   "cell_type": "code",
   "execution_count": 29,
   "id": "046cbedc-b2ca-45c5-a012-7a64c44b85c5",
   "metadata": {},
   "outputs": [
    {
     "name": "stdout",
     "output_type": "stream",
     "text": [
      "[0.9656666666666667, 0.9625, 0.9638333333333333, 0.957, 0.9605, 0.9605, 0.961, 0.9576666666666667, 0.9603333333333334, 0.9578333333333333, 0.9601666666666666, 0.9578333333333333, 0.9576666666666667, 0.955, 0.9548333333333333, 0.9541666666666667, 0.9545, 0.9523333333333334]\n"
     ]
    }
   ],
   "source": [
    "print(performance_lst)"
   ]
  },
  {
   "cell_type": "code",
   "execution_count": 30,
   "id": "72a00657-bb68-43dc-9e64-0786a2a39749",
   "metadata": {},
   "outputs": [
    {
     "data": {
      "text/plain": [
       "[<matplotlib.lines.Line2D at 0x2a9d481ec10>]"
      ]
     },
     "execution_count": 30,
     "metadata": {},
     "output_type": "execute_result"
    },
    {
     "data": {
      "image/png": "[encoded data removed]",
      "text/plain": [
       "<Figure size 640x480 with 1 Axes>"
      ]
     },
     "metadata": {},
     "output_type": "display_data"
    }
   ],
   "source": [
    "plt.plot(np.arange(2, 20), performance_lst)"
   ]
  },
  {
   "cell_type": "code",
   "execution_count": null,
   "id": "e52cef20-6938-4d6f-9dc2-8a74869e743e",
   "metadata": {},
   "outputs": [],
   "source": []
  }
 ],
 "metadata": {
  "kernelspec": {
   "display_name": "Python 3 (ipykernel)",
   "language": "python",
   "name": "python3"
  },
  "language_info": {
   "codemirror_mode": {
    "name": "ipython",
    "version": 3
   },
   "file_extension": ".py",
   "mimetype": "text/x-python",
   "name": "python",
   "nbconvert_exporter": "python",
   "pygments_lexer": "ipython3",
   "version": "3.11.4"
  }
 },
 "nbformat": 4,
 "nbformat_minor": 5
}
