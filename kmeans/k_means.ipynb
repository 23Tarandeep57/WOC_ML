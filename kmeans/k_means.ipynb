{
 "cells": [
  {
   "cell_type": "code",
   "execution_count": 1,
   "id": "76f3b5b5-f374-4ee9-aa1f-6ce3b28fcade",
   "metadata": {},
   "outputs": [],
   "source": [
    "import numpy as np\n",
    "import pandas as pd\n",
    "import matplotlib.pyplot as plt\n",
    "import random"
   ]
  },
  {
   "cell_type": "code",
   "execution_count": 2,
   "id": "77b5a9ec-8c3e-4097-8acf-1f1d693e67be",
   "metadata": {},
   "outputs": [],
   "source": [
    "df = pd.read_csv(\"Kmean_dataset.csv\")"
   ]
  },
  {
   "cell_type": "code",
   "execution_count": 3,
   "id": "961a7d2b-a64c-49ed-8e78-a856190110ad",
   "metadata": {},
   "outputs": [
    {
     "data": {
      "text/html": [
       "<div>\n",
       "<style scoped>\n",
       "    .dataframe tbody tr th:only-of-type {\n",
       "        vertical-align: middle;\n",
       "    }\n",
       "\n",
       "    .dataframe tbody tr th {\n",
       "        vertical-align: top;\n",
       "    }\n",
       "\n",
       "    .dataframe thead th {\n",
       "        text-align: right;\n",
       "    }\n",
       "</style>\n",
       "<table border=\"1\" class=\"dataframe\">\n",
       "  <thead>\n",
       "    <tr style=\"text-align: right;\">\n",
       "      <th></th>\n",
       "      <th>feature0</th>\n",
       "      <th>feature1</th>\n",
       "      <th>feature2</th>\n",
       "      <th>feature3</th>\n",
       "      <th>feature4</th>\n",
       "      <th>feature5</th>\n",
       "      <th>feature6</th>\n",
       "      <th>feature7</th>\n",
       "      <th>feature8</th>\n",
       "      <th>feature9</th>\n",
       "      <th>feature10</th>\n",
       "      <th>feature11</th>\n",
       "      <th>feature12</th>\n",
       "    </tr>\n",
       "  </thead>\n",
       "  <tbody>\n",
       "    <tr>\n",
       "      <th>0</th>\n",
       "      <td>14.23</td>\n",
       "      <td>1.71</td>\n",
       "      <td>2.43</td>\n",
       "      <td>15.6</td>\n",
       "      <td>127</td>\n",
       "      <td>2.80</td>\n",
       "      <td>3.06</td>\n",
       "      <td>0.28</td>\n",
       "      <td>2.29</td>\n",
       "      <td>5.64</td>\n",
       "      <td>1.04</td>\n",
       "      <td>3.92</td>\n",
       "      <td>1065</td>\n",
       "    </tr>\n",
       "    <tr>\n",
       "      <th>1</th>\n",
       "      <td>13.20</td>\n",
       "      <td>1.78</td>\n",
       "      <td>2.14</td>\n",
       "      <td>11.2</td>\n",
       "      <td>100</td>\n",
       "      <td>2.65</td>\n",
       "      <td>2.76</td>\n",
       "      <td>0.26</td>\n",
       "      <td>1.28</td>\n",
       "      <td>4.38</td>\n",
       "      <td>1.05</td>\n",
       "      <td>3.40</td>\n",
       "      <td>1050</td>\n",
       "    </tr>\n",
       "    <tr>\n",
       "      <th>2</th>\n",
       "      <td>13.16</td>\n",
       "      <td>2.36</td>\n",
       "      <td>2.67</td>\n",
       "      <td>18.6</td>\n",
       "      <td>101</td>\n",
       "      <td>2.80</td>\n",
       "      <td>3.24</td>\n",
       "      <td>0.30</td>\n",
       "      <td>2.81</td>\n",
       "      <td>5.68</td>\n",
       "      <td>1.03</td>\n",
       "      <td>3.17</td>\n",
       "      <td>1185</td>\n",
       "    </tr>\n",
       "    <tr>\n",
       "      <th>3</th>\n",
       "      <td>14.37</td>\n",
       "      <td>1.95</td>\n",
       "      <td>2.50</td>\n",
       "      <td>16.8</td>\n",
       "      <td>113</td>\n",
       "      <td>3.85</td>\n",
       "      <td>3.49</td>\n",
       "      <td>0.24</td>\n",
       "      <td>2.18</td>\n",
       "      <td>7.80</td>\n",
       "      <td>0.86</td>\n",
       "      <td>3.45</td>\n",
       "      <td>1480</td>\n",
       "    </tr>\n",
       "    <tr>\n",
       "      <th>4</th>\n",
       "      <td>13.24</td>\n",
       "      <td>2.59</td>\n",
       "      <td>2.87</td>\n",
       "      <td>21.0</td>\n",
       "      <td>118</td>\n",
       "      <td>2.80</td>\n",
       "      <td>2.69</td>\n",
       "      <td>0.39</td>\n",
       "      <td>1.82</td>\n",
       "      <td>4.32</td>\n",
       "      <td>1.04</td>\n",
       "      <td>2.93</td>\n",
       "      <td>735</td>\n",
       "    </tr>\n",
       "  </tbody>\n",
       "</table>\n",
       "</div>"
      ],
      "text/plain": [
       "   feature0  feature1  feature2  feature3  feature4  feature5  feature6  \\\n",
       "0     14.23      1.71      2.43      15.6       127      2.80      3.06   \n",
       "1     13.20      1.78      2.14      11.2       100      2.65      2.76   \n",
       "2     13.16      2.36      2.67      18.6       101      2.80      3.24   \n",
       "3     14.37      1.95      2.50      16.8       113      3.85      3.49   \n",
       "4     13.24      2.59      2.87      21.0       118      2.80      2.69   \n",
       "\n",
       "   feature7  feature8  feature9  feature10  feature11  feature12  \n",
       "0      0.28      2.29      5.64       1.04       3.92       1065  \n",
       "1      0.26      1.28      4.38       1.05       3.40       1050  \n",
       "2      0.30      2.81      5.68       1.03       3.17       1185  \n",
       "3      0.24      2.18      7.80       0.86       3.45       1480  \n",
       "4      0.39      1.82      4.32       1.04       2.93        735  "
      ]
     },
     "execution_count": 3,
     "metadata": {},
     "output_type": "execute_result"
    }
   ],
   "source": [
    "df.head()"
   ]
  },
  {
   "cell_type": "code",
   "execution_count": 4,
   "id": "3d54c93d-1564-4fd0-bd80-00bb05b85334",
   "metadata": {},
   "outputs": [
    {
     "data": {
      "text/plain": [
       "(178, 13)"
      ]
     },
     "execution_count": 4,
     "metadata": {},
     "output_type": "execute_result"
    }
   ],
   "source": [
    "df.shape"
   ]
  },
  {
   "cell_type": "code",
   "execution_count": 5,
   "id": "60cd238d-5331-400b-bfa9-aa1df48d256a",
   "metadata": {},
   "outputs": [],
   "source": [
    "x_train = df.to_numpy()"
   ]
  },
  {
   "cell_type": "code",
   "execution_count": 6,
   "id": "8d463c13-3c1a-4f96-99dd-6fdd705f6ea7",
   "metadata": {},
   "outputs": [],
   "source": [
    "#initialising centroids\n",
    "def centroid_init(k, x):\n",
    "    centroid_lst = []\n",
    "    for i in range(k):\n",
    "        u_i = x[random.randint(0, x.shape[0]-1)]\n",
    "        centroid_lst.append(u_i)\n",
    "    return np.array(centroid_lst)"
   ]
  },
  {
   "cell_type": "code",
   "execution_count": 7,
   "id": "cfae6056-5642-4234-bfe1-7bcf196b8c2c",
   "metadata": {},
   "outputs": [],
   "source": [
    "def distance(k, x, centroid):\n",
    "    c_i = []\n",
    "    for i in range(x.shape[0]):\n",
    "        dis = np.sum(np.square(centroid - x[i]), axis=1)\n",
    "        c_i.append(np.argmin(dis))\n",
    "    return np.array(c_i)"
   ]
  },
  {
   "cell_type": "code",
   "execution_count": 8,
   "id": "8d420c91-d6f9-4797-a97c-a7584838e8ef",
   "metadata": {},
   "outputs": [],
   "source": [
    "def avg_centroid(k, x, centroid):\n",
    "    c_i = distance(k, x, centroid)\n",
    "    sum = np.zeros(centroid.shape)\n",
    "    length_arr = np.zeros(k)\n",
    "    for i in range(len(c_i)):\n",
    "        sum[c_i[i]] += x[i]\n",
    "        length_arr[c_i[i]] += 1\n",
    "    for i in range(k):\n",
    "        centroid[i] = sum[i]/length_arr[i]\n",
    "    return centroid"
   ]
  },
  {
   "cell_type": "code",
   "execution_count": 9,
   "id": "8b5d1702-9faf-42ef-8fb0-d68ed26b81fe",
   "metadata": {},
   "outputs": [],
   "source": [
    "def distortion(x, centroid, k):\n",
    "    c_i = distance(k, x, centroid)\n",
    "    distortion = 0\n",
    "    for i in range(len(c_i)):\n",
    "        distortion += np.sum(np.square(centroid[c_i[i]] - x[i]))\n",
    "    return distortion"
   ]
  },
  {
   "cell_type": "code",
   "execution_count": 10,
   "id": "be0ac692-b520-46fe-8c77-330b97d50399",
   "metadata": {},
   "outputs": [],
   "source": [
    "k = 5;\n",
    "num_iters = 100\n",
    "centroid = centroid_init(k, x_train)\n",
    "j_his = []"
   ]
  },
  {
   "cell_type": "code",
   "execution_count": 11,
   "id": "50e6f1f2-9cdf-4831-90c5-2714f4eda29e",
   "metadata": {},
   "outputs": [
    {
     "name": "stdout",
     "output_type": "stream",
     "text": [
      "distortion: 1607864.471838639\n",
      "distortion: 996446.5366701857\n",
      "distortion: 996446.5366701857\n",
      "distortion: 996446.5366701857\n",
      "distortion: 996446.5366701857\n",
      "distortion: 996446.5366701857\n",
      "distortion: 996446.5366701857\n",
      "distortion: 996446.5366701857\n",
      "distortion: 996446.5366701857\n",
      "distortion: 996446.5366701857\n"
     ]
    }
   ],
   "source": [
    "for i in range(num_iters):\n",
    "    c_i = distance(k, x_train, centroid)\n",
    "    centroid = avg_centroid(k, x_train, centroid)\n",
    "    j = distortion(x_train, centroid, k)\n",
    "    j_his.append(j)\n",
    "    if (i % 10 == 0):\n",
    "        print(f\"distortion: {j}\")"
   ]
  },
  {
   "cell_type": "code",
   "execution_count": 12,
   "id": "8d028cb8-1065-483d-9b5e-9586dc37564a",
   "metadata": {},
   "outputs": [
    {
     "data": {
      "text/plain": [
       "[<matplotlib.lines.Line2D at 0x19b8301ead0>]"
      ]
     },
     "execution_count": 12,
     "metadata": {},
     "output_type": "execute_result"
    },
    {
     "data": {
      "image/png": "[encoded data removed]",
      "text/plain": [
       "<Figure size 640x480 with 1 Axes>"
      ]
     },
     "metadata": {},
     "output_type": "display_data"
    }
   ],
   "source": [
    "plt.plot(np.arange(num_iters), j_his)"
   ]
  },
  {
   "cell_type": "code",
   "execution_count": null,
   "id": "4c5b3e56-f392-45dd-976e-10f5ba568934",
   "metadata": {},
   "outputs": [],
   "source": []
  }
 ],
 "metadata": {
  "kernelspec": {
   "display_name": "Python 3 (ipykernel)",
   "language": "python",
   "name": "python3"
  },
  "language_info": {
   "codemirror_mode": {
    "name": "ipython",
    "version": 3
   },
   "file_extension": ".py",
   "mimetype": "text/x-python",
   "name": "python",
   "nbconvert_exporter": "python",
   "pygments_lexer": "ipython3",
   "version": "3.11.4"
  }
 },
 "nbformat": 4,
 "nbformat_minor": 5
}
