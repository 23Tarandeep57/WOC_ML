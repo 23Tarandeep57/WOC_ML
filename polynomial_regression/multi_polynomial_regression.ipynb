{
 "cells": [
  {
   "cell_type": "code",
   "execution_count": 1,
   "id": "374fddbd-77a5-4867-92dd-a3b7f12f93e1",
   "metadata": {},
   "outputs": [],
   "source": [
    "import numpy as np\n",
    "import pandas as pd\n",
    "import matplotlib.pyplot as plt\n",
    "import itertools"
   ]
  },
  {
   "cell_type": "code",
   "execution_count": null,
   "id": "153c83dd-9844-48cc-bbc6-77d283463eee",
   "metadata": {},
   "outputs": [],
   "source": []
  },
  {
   "cell_type": "code",
   "execution_count": 2,
   "id": "69a4cb55-e8c6-434c-b907-e22a294f9a00",
   "metadata": {},
   "outputs": [],
   "source": [
    "df = pd.read_csv(\"Polynomialdata_train.csv\")\n"
   ]
  },
  {
   "cell_type": "code",
   "execution_count": 3,
   "id": "30fa51f5-cdfb-4e11-a6e0-0542eb584a3e",
   "metadata": {},
   "outputs": [
    {
     "data": {
      "text/html": [
       "<div>\n",
       "<style scoped>\n",
       "    .dataframe tbody tr th:only-of-type {\n",
       "        vertical-align: middle;\n",
       "    }\n",
       "\n",
       "    .dataframe tbody tr th {\n",
       "        vertical-align: top;\n",
       "    }\n",
       "\n",
       "    .dataframe thead th {\n",
       "        text-align: right;\n",
       "    }\n",
       "</style>\n",
       "<table border=\"1\" class=\"dataframe\">\n",
       "  <thead>\n",
       "    <tr style=\"text-align: right;\">\n",
       "      <th></th>\n",
       "      <th>target</th>\n",
       "      <th>feature 1</th>\n",
       "      <th>feature 2</th>\n",
       "      <th>feature 3</th>\n",
       "    </tr>\n",
       "  </thead>\n",
       "  <tbody>\n",
       "    <tr>\n",
       "      <th>0</th>\n",
       "      <td>4.131528e+06</td>\n",
       "      <td>5.221849</td>\n",
       "      <td>7.295111</td>\n",
       "      <td>95.716846</td>\n",
       "    </tr>\n",
       "    <tr>\n",
       "      <th>1</th>\n",
       "      <td>3.172975e-01</td>\n",
       "      <td>-5.106284</td>\n",
       "      <td>4.220085</td>\n",
       "      <td>-6.172360</td>\n",
       "    </tr>\n",
       "    <tr>\n",
       "      <th>2</th>\n",
       "      <td>4.676422e+04</td>\n",
       "      <td>-4.218053</td>\n",
       "      <td>-7.573823</td>\n",
       "      <td>-39.493884</td>\n",
       "    </tr>\n",
       "    <tr>\n",
       "      <th>3</th>\n",
       "      <td>1.404175e+05</td>\n",
       "      <td>-18.439122</td>\n",
       "      <td>-2.275148</td>\n",
       "      <td>-40.885857</td>\n",
       "    </tr>\n",
       "    <tr>\n",
       "      <th>4</th>\n",
       "      <td>4.788988e+03</td>\n",
       "      <td>13.353046</td>\n",
       "      <td>3.103837</td>\n",
       "      <td>18.622367</td>\n",
       "    </tr>\n",
       "  </tbody>\n",
       "</table>\n",
       "</div>"
      ],
      "text/plain": [
       "         target  feature 1  feature 2  feature 3\n",
       "0  4.131528e+06   5.221849   7.295111  95.716846\n",
       "1  3.172975e-01  -5.106284   4.220085  -6.172360\n",
       "2  4.676422e+04  -4.218053  -7.573823 -39.493884\n",
       "3  1.404175e+05 -18.439122  -2.275148 -40.885857\n",
       "4  4.788988e+03  13.353046   3.103837  18.622367"
      ]
     },
     "execution_count": 3,
     "metadata": {},
     "output_type": "execute_result"
    }
   ],
   "source": [
    "df.head()"
   ]
  },
  {
   "cell_type": "code",
   "execution_count": 4,
   "id": "74c8d604-3496-49b5-9ac2-e58969d410b7",
   "metadata": {},
   "outputs": [],
   "source": [
    "x_train = df.sample(frac=0.6, random_state=42)\n",
    "temp_df = df.drop(x_train.index)\n",
    "x_dev = temp_df.sample(frac=0.5, random_state=42)\n",
    "x_test = temp_df.drop(x_dev.index)\n",
    "y_train = x_train.pop(\"target\").values\n",
    "y_dev = x_dev.pop(\"target\").values\n",
    "y_test = x_test.pop(\"target\").values\n"
   ]
  },
  {
   "cell_type": "code",
   "execution_count": 5,
   "id": "bff3b9a7-bd45-452d-be8a-74ac884ba91b",
   "metadata": {},
   "outputs": [
    {
     "name": "stdout",
     "output_type": "stream",
     "text": [
      "x_train : (30000, 3)\n",
      "x_test : (10000, 3)\n",
      "x_dev : (10000, 3)\n",
      "y_test : (10000,)\n",
      "y_dev : (10000,)\n",
      "y_train : (30000,)\n"
     ]
    }
   ],
   "source": [
    "print(f\"x_train : {x_train.shape}\")\n",
    "print(f\"x_test : {x_test.shape}\")\n",
    "print(f\"x_dev : {x_dev.shape}\")\n",
    "print(f\"y_test : {y_test.shape}\")\n",
    "print(f\"y_dev : {y_dev.shape}\")\n",
    "print(f\"y_train : {y_train.shape}\")"
   ]
  },
  {
   "cell_type": "code",
   "execution_count": 6,
   "id": "d5f3b80e-4163-442d-81da-ee608da69fde",
   "metadata": {},
   "outputs": [
    {
     "data": {
      "text/html": [
       "<div>\n",
       "<style scoped>\n",
       "    .dataframe tbody tr th:only-of-type {\n",
       "        vertical-align: middle;\n",
       "    }\n",
       "\n",
       "    .dataframe tbody tr th {\n",
       "        vertical-align: top;\n",
       "    }\n",
       "\n",
       "    .dataframe thead th {\n",
       "        text-align: right;\n",
       "    }\n",
       "</style>\n",
       "<table border=\"1\" class=\"dataframe\">\n",
       "  <thead>\n",
       "    <tr style=\"text-align: right;\">\n",
       "      <th></th>\n",
       "      <th>feature 1</th>\n",
       "      <th>feature 2</th>\n",
       "      <th>feature 3</th>\n",
       "    </tr>\n",
       "  </thead>\n",
       "  <tbody>\n",
       "    <tr>\n",
       "      <th>26424</th>\n",
       "      <td>-29.110229</td>\n",
       "      <td>-2.799991</td>\n",
       "      <td>-32.897124</td>\n",
       "    </tr>\n",
       "    <tr>\n",
       "      <th>5154</th>\n",
       "      <td>-14.847473</td>\n",
       "      <td>-0.669821</td>\n",
       "      <td>16.765088</td>\n",
       "    </tr>\n",
       "    <tr>\n",
       "      <th>21575</th>\n",
       "      <td>28.260332</td>\n",
       "      <td>-6.656657</td>\n",
       "      <td>-70.141487</td>\n",
       "    </tr>\n",
       "    <tr>\n",
       "      <th>2821</th>\n",
       "      <td>-1.862729</td>\n",
       "      <td>0.272504</td>\n",
       "      <td>39.132963</td>\n",
       "    </tr>\n",
       "    <tr>\n",
       "      <th>34740</th>\n",
       "      <td>14.416293</td>\n",
       "      <td>-4.891206</td>\n",
       "      <td>-18.523530</td>\n",
       "    </tr>\n",
       "  </tbody>\n",
       "</table>\n",
       "</div>"
      ],
      "text/plain": [
       "       feature 1  feature 2  feature 3\n",
       "26424 -29.110229  -2.799991 -32.897124\n",
       "5154  -14.847473  -0.669821  16.765088\n",
       "21575  28.260332  -6.656657 -70.141487\n",
       "2821   -1.862729   0.272504  39.132963\n",
       "34740  14.416293  -4.891206 -18.523530"
      ]
     },
     "execution_count": 6,
     "metadata": {},
     "output_type": "execute_result"
    }
   ],
   "source": [
    "x_dev.head()"
   ]
  },
  {
   "cell_type": "code",
   "execution_count": 7,
   "id": "717f73f8-cc17-4965-b602-c39bbb113191",
   "metadata": {},
   "outputs": [
    {
     "data": {
      "text/html": [
       "<div>\n",
       "<style scoped>\n",
       "    .dataframe tbody tr th:only-of-type {\n",
       "        vertical-align: middle;\n",
       "    }\n",
       "\n",
       "    .dataframe tbody tr th {\n",
       "        vertical-align: top;\n",
       "    }\n",
       "\n",
       "    .dataframe thead th {\n",
       "        text-align: right;\n",
       "    }\n",
       "</style>\n",
       "<table border=\"1\" class=\"dataframe\">\n",
       "  <thead>\n",
       "    <tr style=\"text-align: right;\">\n",
       "      <th></th>\n",
       "      <th>feature 1</th>\n",
       "      <th>feature 2</th>\n",
       "      <th>feature 3</th>\n",
       "    </tr>\n",
       "  </thead>\n",
       "  <tbody>\n",
       "    <tr>\n",
       "      <th>5</th>\n",
       "      <td>7.614978</td>\n",
       "      <td>3.154215</td>\n",
       "      <td>-24.546191</td>\n",
       "    </tr>\n",
       "    <tr>\n",
       "      <th>9</th>\n",
       "      <td>27.395374</td>\n",
       "      <td>1.829287</td>\n",
       "      <td>-37.797851</td>\n",
       "    </tr>\n",
       "    <tr>\n",
       "      <th>12</th>\n",
       "      <td>-17.195166</td>\n",
       "      <td>5.513374</td>\n",
       "      <td>21.605829</td>\n",
       "    </tr>\n",
       "    <tr>\n",
       "      <th>20</th>\n",
       "      <td>-62.493575</td>\n",
       "      <td>-1.058732</td>\n",
       "      <td>-52.317223</td>\n",
       "    </tr>\n",
       "    <tr>\n",
       "      <th>21</th>\n",
       "      <td>25.283828</td>\n",
       "      <td>1.573643</td>\n",
       "      <td>-82.528382</td>\n",
       "    </tr>\n",
       "  </tbody>\n",
       "</table>\n",
       "</div>"
      ],
      "text/plain": [
       "    feature 1  feature 2  feature 3\n",
       "5    7.614978   3.154215 -24.546191\n",
       "9   27.395374   1.829287 -37.797851\n",
       "12 -17.195166   5.513374  21.605829\n",
       "20 -62.493575  -1.058732 -52.317223\n",
       "21  25.283828   1.573643 -82.528382"
      ]
     },
     "execution_count": 7,
     "metadata": {},
     "output_type": "execute_result"
    }
   ],
   "source": [
    "x_test.head()"
   ]
  },
  {
   "cell_type": "code",
   "execution_count": 8,
   "id": "84eee40d-2b11-4eaa-9462-a98ccced13cc",
   "metadata": {},
   "outputs": [
    {
     "data": {
      "text/html": [
       "<div>\n",
       "<style scoped>\n",
       "    .dataframe tbody tr th:only-of-type {\n",
       "        vertical-align: middle;\n",
       "    }\n",
       "\n",
       "    .dataframe tbody tr th {\n",
       "        vertical-align: top;\n",
       "    }\n",
       "\n",
       "    .dataframe thead th {\n",
       "        text-align: right;\n",
       "    }\n",
       "</style>\n",
       "<table border=\"1\" class=\"dataframe\">\n",
       "  <thead>\n",
       "    <tr style=\"text-align: right;\">\n",
       "      <th></th>\n",
       "      <th>target</th>\n",
       "      <th>feature 1</th>\n",
       "      <th>feature 2</th>\n",
       "      <th>feature 3</th>\n",
       "    </tr>\n",
       "  </thead>\n",
       "  <tbody>\n",
       "    <tr>\n",
       "      <th>0</th>\n",
       "      <td>4.131528e+06</td>\n",
       "      <td>5.221849</td>\n",
       "      <td>7.295111</td>\n",
       "      <td>95.716846</td>\n",
       "    </tr>\n",
       "    <tr>\n",
       "      <th>1</th>\n",
       "      <td>3.172975e-01</td>\n",
       "      <td>-5.106284</td>\n",
       "      <td>4.220085</td>\n",
       "      <td>-6.172360</td>\n",
       "    </tr>\n",
       "    <tr>\n",
       "      <th>2</th>\n",
       "      <td>4.676422e+04</td>\n",
       "      <td>-4.218053</td>\n",
       "      <td>-7.573823</td>\n",
       "      <td>-39.493884</td>\n",
       "    </tr>\n",
       "    <tr>\n",
       "      <th>3</th>\n",
       "      <td>1.404175e+05</td>\n",
       "      <td>-18.439122</td>\n",
       "      <td>-2.275148</td>\n",
       "      <td>-40.885857</td>\n",
       "    </tr>\n",
       "    <tr>\n",
       "      <th>4</th>\n",
       "      <td>4.788988e+03</td>\n",
       "      <td>13.353046</td>\n",
       "      <td>3.103837</td>\n",
       "      <td>18.622367</td>\n",
       "    </tr>\n",
       "  </tbody>\n",
       "</table>\n",
       "</div>"
      ],
      "text/plain": [
       "         target  feature 1  feature 2  feature 3\n",
       "0  4.131528e+06   5.221849   7.295111  95.716846\n",
       "1  3.172975e-01  -5.106284   4.220085  -6.172360\n",
       "2  4.676422e+04  -4.218053  -7.573823 -39.493884\n",
       "3  1.404175e+05 -18.439122  -2.275148 -40.885857\n",
       "4  4.788988e+03  13.353046   3.103837  18.622367"
      ]
     },
     "execution_count": 8,
     "metadata": {},
     "output_type": "execute_result"
    }
   ],
   "source": [
    "df.head()"
   ]
  },
  {
   "cell_type": "code",
   "execution_count": 24,
   "id": "0e916eb1-2c90-4605-bbbd-612bf9f20108",
   "metadata": {},
   "outputs": [],
   "source": [
    "def initialising_para(x):\n",
    "    m , n = x.shape\n",
    "    w = np.random.randn(n)\n",
    "    b = 0\n",
    "    return w, b"
   ]
  },
  {
   "cell_type": "code",
   "execution_count": 25,
   "id": "4afe2a55-18c0-4ef5-b6f7-ac77853aaec8",
   "metadata": {},
   "outputs": [],
   "source": [
    "def create_polynomial_features(df, degree):\n",
    " \n",
    "    feature_df = df.copy()\n",
    "    new_features = []  # List to accumulate new features as DataFrames\n",
    "    \n",
    "    # Loop over each degree from 2 to the specified degree\n",
    "    for i in range(2, degree + 1):\n",
    "        # Generate combinations of columns for the current degree\n",
    "        for combination in itertools.product(df.columns, repeat=i):\n",
    "            # Sort the combination to avoid duplicate feature names like 'A*B' and 'B*A'\n",
    "            sorted_combination = sorted(combination)\n",
    "            feature_name = '*'.join(sorted_combination)\n",
    "                # Compute the product of the columns in the combination\n",
    "            new_feature = df[list(sorted_combination)].prod(axis=1)\n",
    "            new_feature.name = feature_name\n",
    "                \n",
    "                # Append the new feature as a DataFrame to the list\n",
    "                \n",
    "            new_features.append(new_feature)\n",
    "    \n",
    "    # Concatenate the new features with the original DataFrame\n",
    "    feature_df = pd.concat([feature_df] + new_features, axis=1)\n",
    "    feature_df = feature_df.T.drop_duplicates().T\n",
    "    return feature_df"
   ]
  },
  {
   "cell_type": "code",
   "execution_count": null,
   "id": "38aa4085-a9b7-421d-a7d8-08bc6fbcb3e3",
   "metadata": {},
   "outputs": [],
   "source": []
  },
  {
   "cell_type": "code",
   "execution_count": null,
   "id": "83ed7fca-d761-47fc-a303-d0f6ce0ddcea",
   "metadata": {},
   "outputs": [],
   "source": []
  },
  {
   "cell_type": "code",
   "execution_count": 26,
   "id": "ac093152-5069-4db2-ac76-f2c4eddb6171",
   "metadata": {},
   "outputs": [],
   "source": [
    "def normal_ele(x):\n",
    "    meu = np.mean(x, axis = 0)\n",
    "    max = np.max(x, axis = 0)\n",
    "    min = np.min(x, axis = 0)\n",
    "    std = np.std(x, axis = 0)\n",
    "    return meu, max, min, std"
   ]
  },
  {
   "cell_type": "code",
   "execution_count": 27,
   "id": "455bc800-9922-4149-a956-9e3803a9ba42",
   "metadata": {},
   "outputs": [],
   "source": [
    "def normalisation(x, meu, max, min, std):\n",
    "    epsilon = 10e-5\n",
    "    n_x = (x - meu)/(std + epsilon)\n",
    "    return n_x"
   ]
  },
  {
   "cell_type": "code",
   "execution_count": 28,
   "id": "b332c26d-61c7-4738-8d42-4aeac9151763",
   "metadata": {},
   "outputs": [],
   "source": [
    "def cost(x, w, b, y):\n",
    "    m, n = x.shape\n",
    "    y_hat = np.dot(x, w) + b\n",
    "    j = np.sum(np.square(y_hat - y))\n",
    "    j /= (2 * m)\n",
    "    return j"
   ]
  },
  {
   "cell_type": "code",
   "execution_count": 29,
   "id": "4a9fe30f-07af-41d0-b19b-f5d58c0f8b02",
   "metadata": {},
   "outputs": [],
   "source": [
    "def derivatives(x, w, b, y):\n",
    "    m, n = x.shape\n",
    "    y_hat = np.dot(x, w) + b\n",
    "    err = y_hat - y\n",
    "    dj_dw = np.dot(x.T, err) / m\n",
    "    dj_db = np.sum(err) / m\n",
    "    return dj_dw, dj_db"
   ]
  },
  {
   "cell_type": "code",
   "execution_count": 30,
   "id": "048e5c79-d4e4-4b92-88e2-6985d97cc943",
   "metadata": {},
   "outputs": [],
   "source": [
    "def update_para(x, w, b, y, alpha):\n",
    "    dj_dw , dj_db = derivatives(x, w, b, y)\n",
    "    w = w -  alpha*dj_dw\n",
    "    b = b - alpha*dj_db\n",
    "    return w, b"
   ]
  },
  {
   "cell_type": "code",
   "execution_count": 61,
   "id": "1eac6606-8af1-4c74-a659-4e2c0867578c",
   "metadata": {},
   "outputs": [],
   "source": [
    "\n",
    "degree = 7\n",
    "poly_x_train = create_polynomial_features(x_train, degree)\n",
    "w, b = initialising_para(poly_x_train)\n",
    "meu, max, min, std = normal_ele(poly_x_train)\n",
    "# print(meu , max, min)\n",
    "n_poly_x_train = normalisation(poly_x_train, meu, max, min, std)\n"
   ]
  },
  {
   "cell_type": "code",
   "execution_count": 62,
   "id": "2a41bfd5-cbef-4fd9-a293-a346c6791594",
   "metadata": {},
   "outputs": [
    {
     "name": "stdout",
     "output_type": "stream",
     "text": [
      "[  1.09385885  -8.71233733 -15.54501215 ...  -4.42554981   3.88860422\n",
      "  -1.47282948]\n"
     ]
    }
   ],
   "source": [
    "# n_poly_x_train.head()\n",
    "y_hat = np.dot(n_poly_x_train, w) + b\n",
    "print(y_hat)"
   ]
  },
  {
   "cell_type": "code",
   "execution_count": 63,
   "id": "d7cc4c70-741e-4faa-a3e7-c2b8e6b0e6f6",
   "metadata": {},
   "outputs": [
    {
     "name": "stdout",
     "output_type": "stream",
     "text": [
      "start\n",
      "iteration: 0 : cost 53919736219850.91\n",
      "iteration: 100 : cost 1224819206907.4106\n",
      "iteration: 200 : cost 493600512907.3471\n",
      "iteration: 300 : cost 312732150603.5351\n",
      "iteration: 400 : cost 236294854147.4398\n",
      "iteration: 500 : cost 192630390608.3263\n",
      "iteration: 600 : cost 163230728700.03094\n",
      "iteration: 700 : cost 141484453544.6121\n",
      "iteration: 800 : cost 124436815503.47548\n",
      "iteration: 900 : cost 110553124692.57425\n"
     ]
    }
   ],
   "source": [
    "num_iters = 1000\n",
    "alpha = 0.03\n",
    "j_his = []\n",
    "print(\"start\")\n",
    "for i in range(num_iters):\n",
    "    w, b = update_para(n_poly_x_train, w, b, y_train, alpha)\n",
    "    j = cost(n_poly_x_train, w, b, y_train)\n",
    "    j_his.append(j)\n",
    "    if i %100 ==0:\n",
    "        print(f\"iteration: {i} : cost {j}\")"
   ]
  },
  {
   "cell_type": "code",
   "execution_count": 64,
   "id": "0425866c-10f3-450c-a756-0be981e49be5",
   "metadata": {},
   "outputs": [
    {
     "data": {
      "text/plain": [
       "[<matplotlib.lines.Line2D at 0x168350eb010>]"
      ]
     },
     "execution_count": 64,
     "metadata": {},
     "output_type": "execute_result"
    },
    {
     "data": {
      "image/png": "[encoded data removed]",
      "text/plain": [
       "<Figure size 640x480 with 1 Axes>"
      ]
     },
     "metadata": {},
     "output_type": "display_data"
    }
   ],
   "source": [
    "plt.plot(np.arange(num_iters), j_his)"
   ]
  },
  {
   "cell_type": "code",
   "execution_count": 65,
   "id": "ea80f41e-ca6f-48a4-baf0-aa3e3791eff1",
   "metadata": {},
   "outputs": [],
   "source": [
    "poly_x_test = create_polynomial_features(x_test, degree)\n",
    "n_poly_x_test = normalisation(poly_x_test, meu, max, min, std)\n",
    "y_hat_test = np.dot(n_poly_x_test, w) + b\n",
    "test_err = y_hat_test - y_test\n"
   ]
  },
  {
   "cell_type": "code",
   "execution_count": 66,
   "id": "6da6f55d-940d-4045-ac57-a81b49e5c563",
   "metadata": {},
   "outputs": [
    {
     "data": {
      "text/plain": [
       "0.9967295585284058"
      ]
     },
     "execution_count": 66,
     "metadata": {},
     "output_type": "execute_result"
    }
   ],
   "source": [
    "gr2_test = np.sum(np.square(y_test - y_hat_test))\n",
    "yr2_test = np.sum(np.square(y_test - np.mean(y_test)))\n",
    "1 - (gr2_test / yr2_test)"
   ]
  },
  {
   "cell_type": "code",
   "execution_count": 67,
   "id": "9b71fe3b-bcdc-4849-b312-fe5f2885ac8b",
   "metadata": {},
   "outputs": [],
   "source": [
    "y_hat_train = np.dot(n_poly_x_train, w) + b"
   ]
  },
  {
   "cell_type": "code",
   "execution_count": 68,
   "id": "2fe26c0d-1899-4b34-8b09-9f62ad6738a3",
   "metadata": {},
   "outputs": [
    {
     "data": {
      "text/plain": [
       "0.9985094190479937"
      ]
     },
     "execution_count": 68,
     "metadata": {},
     "output_type": "execute_result"
    }
   ],
   "source": [
    "gr2_train = np.sum(np.square(y_train - y_hat_train))\n",
    "yr2_train = np.sum(np.square(y_train - np.mean(y_train)))\n",
    "1 - (gr2_train / yr2_train)"
   ]
  },
  {
   "cell_type": "code",
   "execution_count": null,
   "id": "545892e2-ee0d-4318-a021-dccfbfa7f2ce",
   "metadata": {},
   "outputs": [],
   "source": []
  }
 ],
 "metadata": {
  "kernelspec": {
   "display_name": "Python 3 (ipykernel)",
   "language": "python",
   "name": "python3"
  },
  "language_info": {
   "codemirror_mode": {
    "name": "ipython",
    "version": 3
   },
   "file_extension": ".py",
   "mimetype": "text/x-python",
   "name": "python",
   "nbconvert_exporter": "python",
   "pygments_lexer": "ipython3",
   "version": "3.11.4"
  }
 },
 "nbformat": 4,
 "nbformat_minor": 5
}
