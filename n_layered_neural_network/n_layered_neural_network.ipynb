{
 "cells": [
  {
   "cell_type": "code",
   "execution_count": 1,
   "id": "251fa340-bde6-44eb-b10f-40c90fa9d41c",
   "metadata": {},
   "outputs": [],
   "source": [
    "import numpy as np\n",
    "import pandas as pd\n",
    "import matplotlib.pyplot as plt"
   ]
  },
  {
   "cell_type": "code",
   "execution_count": null,
   "id": "c1ba29bb-5673-48b5-9f21-95e632f9e267",
   "metadata": {},
   "outputs": [],
   "source": []
  },
  {
   "cell_type": "code",
   "execution_count": 2,
   "id": "5614b3ed-077b-491d-a359-9f7dc23989e3",
   "metadata": {},
   "outputs": [],
   "source": [
    "df = pd.read_csv(\"classification_train.csv\")\n"
   ]
  },
  {
   "cell_type": "code",
   "execution_count": 3,
   "id": "f4805c36-8315-4589-9e02-04bbe6c1660d",
   "metadata": {},
   "outputs": [
    {
     "data": {
      "text/html": [
       "<div>\n",
       "<style scoped>\n",
       "    .dataframe tbody tr th:only-of-type {\n",
       "        vertical-align: middle;\n",
       "    }\n",
       "\n",
       "    .dataframe tbody tr th {\n",
       "        vertical-align: top;\n",
       "    }\n",
       "\n",
       "    .dataframe thead th {\n",
       "        text-align: right;\n",
       "    }\n",
       "</style>\n",
       "<table border=\"1\" class=\"dataframe\">\n",
       "  <thead>\n",
       "    <tr style=\"text-align: right;\">\n",
       "      <th></th>\n",
       "      <th>label</th>\n",
       "      <th>pixel0</th>\n",
       "      <th>pixel1</th>\n",
       "      <th>pixel2</th>\n",
       "      <th>pixel3</th>\n",
       "      <th>pixel4</th>\n",
       "      <th>pixel5</th>\n",
       "      <th>pixel6</th>\n",
       "      <th>pixel7</th>\n",
       "      <th>pixel8</th>\n",
       "      <th>...</th>\n",
       "      <th>pixel774</th>\n",
       "      <th>pixel775</th>\n",
       "      <th>pixel776</th>\n",
       "      <th>pixel777</th>\n",
       "      <th>pixel778</th>\n",
       "      <th>pixel779</th>\n",
       "      <th>pixel780</th>\n",
       "      <th>pixel781</th>\n",
       "      <th>pixel782</th>\n",
       "      <th>pixel783</th>\n",
       "    </tr>\n",
       "  </thead>\n",
       "  <tbody>\n",
       "    <tr>\n",
       "      <th>0</th>\n",
       "      <td>0</td>\n",
       "      <td>0</td>\n",
       "      <td>0</td>\n",
       "      <td>0</td>\n",
       "      <td>0</td>\n",
       "      <td>0</td>\n",
       "      <td>0</td>\n",
       "      <td>0</td>\n",
       "      <td>0</td>\n",
       "      <td>0</td>\n",
       "      <td>...</td>\n",
       "      <td>0</td>\n",
       "      <td>0</td>\n",
       "      <td>0</td>\n",
       "      <td>0</td>\n",
       "      <td>0</td>\n",
       "      <td>0</td>\n",
       "      <td>0</td>\n",
       "      <td>0</td>\n",
       "      <td>0</td>\n",
       "      <td>0</td>\n",
       "    </tr>\n",
       "    <tr>\n",
       "      <th>1</th>\n",
       "      <td>8</td>\n",
       "      <td>0</td>\n",
       "      <td>0</td>\n",
       "      <td>0</td>\n",
       "      <td>0</td>\n",
       "      <td>0</td>\n",
       "      <td>0</td>\n",
       "      <td>0</td>\n",
       "      <td>0</td>\n",
       "      <td>0</td>\n",
       "      <td>...</td>\n",
       "      <td>0</td>\n",
       "      <td>0</td>\n",
       "      <td>0</td>\n",
       "      <td>0</td>\n",
       "      <td>0</td>\n",
       "      <td>0</td>\n",
       "      <td>0</td>\n",
       "      <td>0</td>\n",
       "      <td>0</td>\n",
       "      <td>0</td>\n",
       "    </tr>\n",
       "    <tr>\n",
       "      <th>2</th>\n",
       "      <td>1</td>\n",
       "      <td>0</td>\n",
       "      <td>0</td>\n",
       "      <td>0</td>\n",
       "      <td>0</td>\n",
       "      <td>0</td>\n",
       "      <td>0</td>\n",
       "      <td>0</td>\n",
       "      <td>0</td>\n",
       "      <td>0</td>\n",
       "      <td>...</td>\n",
       "      <td>0</td>\n",
       "      <td>0</td>\n",
       "      <td>0</td>\n",
       "      <td>0</td>\n",
       "      <td>0</td>\n",
       "      <td>0</td>\n",
       "      <td>0</td>\n",
       "      <td>0</td>\n",
       "      <td>0</td>\n",
       "      <td>0</td>\n",
       "    </tr>\n",
       "    <tr>\n",
       "      <th>3</th>\n",
       "      <td>7</td>\n",
       "      <td>0</td>\n",
       "      <td>0</td>\n",
       "      <td>0</td>\n",
       "      <td>0</td>\n",
       "      <td>0</td>\n",
       "      <td>0</td>\n",
       "      <td>0</td>\n",
       "      <td>0</td>\n",
       "      <td>0</td>\n",
       "      <td>...</td>\n",
       "      <td>0</td>\n",
       "      <td>0</td>\n",
       "      <td>0</td>\n",
       "      <td>0</td>\n",
       "      <td>0</td>\n",
       "      <td>0</td>\n",
       "      <td>0</td>\n",
       "      <td>0</td>\n",
       "      <td>0</td>\n",
       "      <td>0</td>\n",
       "    </tr>\n",
       "    <tr>\n",
       "      <th>4</th>\n",
       "      <td>7</td>\n",
       "      <td>0</td>\n",
       "      <td>0</td>\n",
       "      <td>0</td>\n",
       "      <td>0</td>\n",
       "      <td>0</td>\n",
       "      <td>0</td>\n",
       "      <td>0</td>\n",
       "      <td>0</td>\n",
       "      <td>0</td>\n",
       "      <td>...</td>\n",
       "      <td>0</td>\n",
       "      <td>0</td>\n",
       "      <td>0</td>\n",
       "      <td>0</td>\n",
       "      <td>0</td>\n",
       "      <td>0</td>\n",
       "      <td>0</td>\n",
       "      <td>0</td>\n",
       "      <td>0</td>\n",
       "      <td>0</td>\n",
       "    </tr>\n",
       "  </tbody>\n",
       "</table>\n",
       "<p>5 rows × 785 columns</p>\n",
       "</div>"
      ],
      "text/plain": [
       "   label  pixel0  pixel1  pixel2  pixel3  pixel4  pixel5  pixel6  pixel7  \\\n",
       "0      0       0       0       0       0       0       0       0       0   \n",
       "1      8       0       0       0       0       0       0       0       0   \n",
       "2      1       0       0       0       0       0       0       0       0   \n",
       "3      7       0       0       0       0       0       0       0       0   \n",
       "4      7       0       0       0       0       0       0       0       0   \n",
       "\n",
       "   pixel8  ...  pixel774  pixel775  pixel776  pixel777  pixel778  pixel779  \\\n",
       "0       0  ...         0         0         0         0         0         0   \n",
       "1       0  ...         0         0         0         0         0         0   \n",
       "2       0  ...         0         0         0         0         0         0   \n",
       "3       0  ...         0         0         0         0         0         0   \n",
       "4       0  ...         0         0         0         0         0         0   \n",
       "\n",
       "   pixel780  pixel781  pixel782  pixel783  \n",
       "0         0         0         0         0  \n",
       "1         0         0         0         0  \n",
       "2         0         0         0         0  \n",
       "3         0         0         0         0  \n",
       "4         0         0         0         0  \n",
       "\n",
       "[5 rows x 785 columns]"
      ]
     },
     "execution_count": 3,
     "metadata": {},
     "output_type": "execute_result"
    }
   ],
   "source": [
    "df.head()"
   ]
  },
  {
   "cell_type": "code",
   "execution_count": 4,
   "id": "5f429083-dd92-4469-898a-e71d2bf7f880",
   "metadata": {},
   "outputs": [],
   "source": [
    "x_train = df.sample(frac=0.6, random_state=42)\n",
    "temp_df = df.drop(x_train.index)\n",
    "x_dev = temp_df.sample(frac=0.5, random_state=42)\n",
    "x_test = temp_df.drop(x_dev.index)\n",
    "y_train = x_train.pop(\"label\").values\n",
    "y_dev = x_dev.pop(\"label\").values\n",
    "y_test = x_test.pop(\"label\").values"
   ]
  },
  {
   "cell_type": "code",
   "execution_count": 5,
   "id": "f45a6186-f44e-4d00-bcd9-e5f9eeab2267",
   "metadata": {},
   "outputs": [
    {
     "data": {
      "text/plain": [
       "(6000,)"
      ]
     },
     "execution_count": 5,
     "metadata": {},
     "output_type": "execute_result"
    }
   ],
   "source": [
    "y_test.shape"
   ]
  },
  {
   "cell_type": "code",
   "execution_count": 6,
   "id": "7a2d1d08-b05f-407c-b940-eb0caaed8615",
   "metadata": {},
   "outputs": [],
   "source": [
    "one_hot_y = pd.get_dummies(y_train)\n",
    "one_hot_y = one_hot_y.replace({True: 1, False: 0})\n",
    "one_hot_y = one_hot_y.to_numpy()\n",
    "one_hot_y = one_hot_y.T"
   ]
  },
  {
   "cell_type": "code",
   "execution_count": 7,
   "id": "7e513bdf-4017-4ec9-8d39-bc22787194b6",
   "metadata": {},
   "outputs": [
    {
     "name": "stdout",
     "output_type": "stream",
     "text": [
      "(1, 18000)\n",
      "(10, 18000)\n"
     ]
    }
   ],
   "source": [
    "y_train = y_train.reshape(1, -1)\n",
    "print(y_train.shape)\n",
    "print(one_hot_y.shape)"
   ]
  },
  {
   "cell_type": "code",
   "execution_count": 8,
   "id": "bc575e92-0215-4fd0-982a-2eeb3e8830f0",
   "metadata": {},
   "outputs": [],
   "source": [
    "def relu(x):\n",
    "    return np.maximum(0, x)\n",
    "    \n",
    "def derivative_relu(z):\n",
    "    return np.array(z>0, dtype = 'float')\n",
    "\n",
    "def softmax(z):\n",
    "    exp = np.exp(z - np.max(z, axis=0))\n",
    "    return exp/np.sum(exp, axis=0 ,keepdims = True)"
   ]
  },
  {
   "cell_type": "code",
   "execution_count": 9,
   "id": "de6ebfc1-cf39-47c2-a237-6c5f72cd7f6c",
   "metadata": {},
   "outputs": [],
   "source": [
    "def normal_ele(x):\n",
    "    meu = np.mean(x, axis = 1)\n",
    "    max = np.max(x, axis = 1)\n",
    "    min = np.min(x, axis = 1)\n",
    "    std = np.std(x, axis = 1)\n",
    "    meu = meu.to_numpy()\n",
    "    max = max.to_numpy()\n",
    "    min = min.to_numpy()\n",
    "    std = std.to_numpy()\n",
    "    return meu.reshape(-1,1), max.reshape(-1,1), min.reshape(-1,1), std.reshape(-1,1)\n",
    "    "
   ]
  },
  {
   "cell_type": "code",
   "execution_count": 10,
   "id": "2ed9a978-426a-48b4-907d-55dcfe5e64af",
   "metadata": {},
   "outputs": [],
   "source": [
    "def normalise(x, meu, max, min, std):\n",
    "    epsilon = 10e-8\n",
    "    n_x = (x-meu)/(std+epsilon)\n",
    "    return n_x"
   ]
  },
  {
   "cell_type": "code",
   "execution_count": 11,
   "id": "2b7b5420-5fe8-4f49-869e-aeac9c4c26c0",
   "metadata": {},
   "outputs": [],
   "source": [
    "def inti_weights(layer_dims):\n",
    "    para = {}\n",
    "    L = len(layer_dims)-1\n",
    "    for i in range(1, L+1):\n",
    "        para[\"w\"+str(i)] = np.random.randn(layer_dims[i], layer_dims[i-1]) * np.sqrt(2. / layer_dims[i - 1])\n",
    "        para[\"b\"+str(i)] = np.zeros((layer_dims[i], 1))\n",
    "    return para"
   ]
  },
  {
   "cell_type": "code",
   "execution_count": 12,
   "id": "aa2bd46f-7f66-4b4a-859c-f7a0767f5275",
   "metadata": {},
   "outputs": [],
   "source": [
    "def forward_prop(para, x):\n",
    "    forward_cache = {}\n",
    "    forward_cache[\"a0\"] = x\n",
    "    L = (len(para) // 2) \n",
    "    for i in range(1, L):\n",
    "        forward_cache[\"z\" + str(i)] = np.dot(para[\"w\"+str(i)], forward_cache[\"a\"+str(i-1)]) + para[\"b\" + str(i)]\n",
    "        forward_cache[\"a\" + str(i)] = relu(forward_cache[\"z\" + str(i)])\n",
    "\n",
    "    forward_cache[\"z\" + str(L)] = np.dot(para[\"w\"+str(L)], forward_cache[\"a\"+str(L-1)]) + para[\"b\" + str(L)]\n",
    "    forward_cache[\"a\" + str(L)] = softmax(forward_cache[\"z\" + str(L)])\n",
    "    return forward_cache\n",
    "        "
   ]
  },
  {
   "cell_type": "code",
   "execution_count": 13,
   "id": "c735c97c-2b83-49c5-b6db-02c9140b494d",
   "metadata": {},
   "outputs": [],
   "source": [
    "def back_prop(para, x, y):\n",
    "    grad = {}\n",
    "    forward_cache = forward_prop(para, x)\n",
    "    L = (len(para) // 2)\n",
    "    m = y.shape[1]\n",
    "    grad[\"dz\"+str(L)] = forward_cache[\"a\"+str(L)] - y\n",
    "    grad[\"dw\"+str(L)] = (1./m) * np.dot(grad[\"dz\"+str(L)], forward_cache[\"a\"+str(L-1)].T)\n",
    "    grad[\"db\"+str(L)] = (1./m) * np.sum(grad[\"dz\"+str(L)], axis=1, keepdims=True)\n",
    "\n",
    "    for i in reversed(range(1, L)):\n",
    "        grad[\"dz\"+str(i)] = np.dot(para[\"w\"+str(i+1)].T, grad[\"dz\"+str(i+1)]) * derivative_relu(forward_cache[\"a\"+str(i)])\n",
    "        grad[\"dw\"+str(i)] = (1./m) * np.dot(grad[\"dz\"+str(i)], forward_cache[\"a\"+str(i-1)].T)\n",
    "        grad[\"db\"+str(i)] = (1./m) * np.sum(grad[\"dz\"+str(i)], axis=1, keepdims=True)\n",
    "    return grad"
   ]
  },
  {
   "cell_type": "code",
   "execution_count": 14,
   "id": "b9a8a1ee-5e4b-4cc2-bca7-d8c6a9771bd4",
   "metadata": {},
   "outputs": [],
   "source": [
    "def cost(y, para,x):\n",
    "    forward_cache = forward_prop(para, x)\n",
    "    epsilon = 10e-8\n",
    "    m = y.shape[1]\n",
    "    L = (len(para)//2)\n",
    "    cost = -np.sum(y * np.log(forward_cache[\"a\"+str(L)] + epsilon))/m\n",
    "    return cost"
   ]
  },
  {
   "cell_type": "code",
   "execution_count": 15,
   "id": "8bcc98f9-e91b-4168-8dc4-397809945645",
   "metadata": {},
   "outputs": [],
   "source": [
    "def update_para(para, x, y, alpha):\n",
    "    L = (len(para) // 2)\n",
    "    grad = back_prop(para, x, y)\n",
    "    for i in range(1, L+1):\n",
    "        para[\"w\"+str(i)] = para[\"w\"+str(i)] - alpha * grad[\"dw\"+str(i)]\n",
    "        para[\"b\"+str(i)] = para[\"b\"+str(i)] - alpha * grad[\"db\"+str(i)]\n",
    "    return para"
   ]
  },
  {
   "cell_type": "code",
   "execution_count": 16,
   "id": "5a069102-ff86-4ec4-a720-afe3382e73fb",
   "metadata": {},
   "outputs": [],
   "source": [
    "num_iters = 1000\n",
    "alpha = .03\n",
    "meu, max, min, std = normal_ele(x_train.T)\n",
    "n_x_train = normalise(x_train.T, meu, max, min, std)\n",
    "layer_dims = [x_train.T.shape[0], 16, 32, one_hot_y.shape[0]]\n",
    "para = inti_weights(layer_dims)\n",
    "j_his = []"
   ]
  },
  {
   "cell_type": "code",
   "execution_count": 17,
   "id": "86c70306-835a-41d5-a3ec-8873b36e0637",
   "metadata": {},
   "outputs": [
    {
     "name": "stdout",
     "output_type": "stream",
     "text": [
      "iteration 0 : cost 2.715456583731334\n",
      "iteration 100 : cost 0.4402418034891021\n",
      "iteration 200 : cost 0.25880309539990065\n",
      "iteration 300 : cost 0.19422817858495922\n",
      "iteration 400 : cost 0.1593580007381264\n",
      "iteration 500 : cost 0.13706517386964884\n",
      "iteration 600 : cost 0.12135692805536746\n",
      "iteration 700 : cost 0.10927303227241277\n",
      "iteration 800 : cost 0.09969673176769439\n",
      "iteration 900 : cost 0.09188421292216961\n"
     ]
    }
   ],
   "source": [
    "for i in range(num_iters):\n",
    "    para = update_para(para, n_x_train, one_hot_y, alpha)\n",
    "    j = cost(one_hot_y, para, n_x_train)\n",
    "    j_his.append(j)\n",
    "    if (i % 100 == 0):\n",
    "        print(f\"iteration {i} : cost {j}\")"
   ]
  },
  {
   "cell_type": "code",
   "execution_count": 18,
   "id": "17368c1d-dfcf-4a63-bcd1-7edd8e4d290f",
   "metadata": {},
   "outputs": [
    {
     "data": {
      "text/plain": [
       "[<matplotlib.lines.Line2D at 0x2cd91738b50>]"
      ]
     },
     "execution_count": 18,
     "metadata": {},
     "output_type": "execute_result"
    },
    {
     "data": {
      "image/png": "[encoded data removed]",
      "text/plain": [
       "<Figure size 640x480 with 1 Axes>"
      ]
     },
     "metadata": {},
     "output_type": "display_data"
    }
   ],
   "source": [
    "plt.plot(np.arange(num_iters), j_his)"
   ]
  },
  {
   "cell_type": "code",
   "execution_count": 19,
   "id": "664de861-e824-4a07-a7fa-fb67f552c5b7",
   "metadata": {},
   "outputs": [],
   "source": [
    "n_x_test = normalise(x_test.T, meu, max, min, std)"
   ]
  },
  {
   "cell_type": "code",
   "execution_count": 20,
   "id": "c89e054c-ecb5-4cdc-a152-6a4532c6fff5",
   "metadata": {},
   "outputs": [
    {
     "data": {
      "text/plain": [
       "(784, 6000)"
      ]
     },
     "execution_count": 20,
     "metadata": {},
     "output_type": "execute_result"
    }
   ],
   "source": [
    "n_x_test.shape"
   ]
  },
  {
   "cell_type": "code",
   "execution_count": 21,
   "id": "59f3c35d-48cb-456a-98f6-81b08cdf522f",
   "metadata": {},
   "outputs": [],
   "source": [
    "forward_cache = {}\n",
    "forward_cache = forward_prop(para, n_x_test)\n",
    "L = (len(para) // 2)\n",
    "y_hat = np.argmax(forward_cache[\"a\" + str(L)], axis = 0).reshape(1,-1)\n",
    "y_test = y_test.reshape(1, -1)\n",
    "sum = np.sum(y_test == y_hat)"
   ]
  },
  {
   "cell_type": "code",
   "execution_count": 22,
   "id": "6f47298d-24cf-4edc-8a65-a470a05dc0e0",
   "metadata": {},
   "outputs": [
    {
     "data": {
      "text/plain": [
       "(1, 6000)"
      ]
     },
     "execution_count": 22,
     "metadata": {},
     "output_type": "execute_result"
    }
   ],
   "source": [
    "y_hat.shape"
   ]
  },
  {
   "cell_type": "code",
   "execution_count": 23,
   "id": "0329eac1-1dd5-40c9-92a5-b6e13afaf589",
   "metadata": {},
   "outputs": [
    {
     "data": {
      "text/plain": [
       "(1, 6000)"
      ]
     },
     "execution_count": 23,
     "metadata": {},
     "output_type": "execute_result"
    }
   ],
   "source": [
    "y_test.shape"
   ]
  },
  {
   "cell_type": "code",
   "execution_count": 24,
   "id": "d3072cdf-32b4-44e1-b4aa-c94a6ec157db",
   "metadata": {},
   "outputs": [
    {
     "data": {
      "text/plain": [
       "0.9606666666666667"
      ]
     },
     "execution_count": 24,
     "metadata": {},
     "output_type": "execute_result"
    }
   ],
   "source": [
    "sum/y_test.shape[1]"
   ]
  },
  {
   "cell_type": "code",
   "execution_count": 25,
   "id": "e92325a8-e276-4053-bfa3-21c5bd27dca2",
   "metadata": {},
   "outputs": [
    {
     "data": {
      "text/plain": [
       "(784, 18000)"
      ]
     },
     "execution_count": 25,
     "metadata": {},
     "output_type": "execute_result"
    }
   ],
   "source": [
    "x_train.T.shape"
   ]
  },
  {
   "cell_type": "code",
   "execution_count": 26,
   "id": "3c728115-8a53-4487-9e9a-39ee248c01a3",
   "metadata": {},
   "outputs": [
    {
     "data": {
      "text/plain": [
       "(784, 18000)"
      ]
     },
     "execution_count": 26,
     "metadata": {},
     "output_type": "execute_result"
    }
   ],
   "source": [
    "n_x_train.shape"
   ]
  },
  {
   "cell_type": "code",
   "execution_count": 27,
   "id": "8f7bfc38-77f1-467f-b738-38d3273d12a0",
   "metadata": {},
   "outputs": [
    {
     "data": {
      "text/plain": [
       "array([1, 0, 5, 9, 0, 7, 7, 4, 9, 7, 2, 8, 7, 0, 5, 4, 1, 8, 4, 4, 6, 3,\n",
       "       7, 0, 0, 0, 8, 2, 6, 3, 6, 3, 4, 4, 4, 4, 3, 1, 9, 9, 9, 3, 1, 4,\n",
       "       6, 4, 2, 7, 9, 7], dtype=int64)"
      ]
     },
     "execution_count": 27,
     "metadata": {},
     "output_type": "execute_result"
    }
   ],
   "source": [
    "y_test[0, :50]"
   ]
  },
  {
   "cell_type": "code",
   "execution_count": 28,
   "id": "1999995a-bbd9-43f6-9ee1-3a9e371be2d4",
   "metadata": {},
   "outputs": [
    {
     "data": {
      "text/plain": [
       "array([1, 0, 5, 9, 0, 7, 7, 4, 9, 7, 2, 8, 7, 0, 5, 4, 1, 8, 4, 4, 6, 3,\n",
       "       7, 0, 0, 0, 8, 2, 6, 5, 6, 5, 4, 4, 4, 4, 3, 1, 9, 9, 9, 3, 1, 4,\n",
       "       7, 4, 2, 6, 9, 6], dtype=int64)"
      ]
     },
     "execution_count": 28,
     "metadata": {},
     "output_type": "execute_result"
    }
   ],
   "source": [
    "y_hat[0, : 50]"
   ]
  },
  {
   "cell_type": "code",
   "execution_count": null,
   "id": "2b819d5e-3311-4759-83e4-704cb54fbd37",
   "metadata": {},
   "outputs": [],
   "source": []
  },
  {
   "cell_type": "code",
   "execution_count": null,
   "id": "5b460029-9fd5-400f-bee8-0462aa3fd245",
   "metadata": {},
   "outputs": [],
   "source": []
  },
  {
   "cell_type": "code",
   "execution_count": null,
   "id": "158457ce-cef6-4feb-9a35-20368f2ae5b2",
   "metadata": {},
   "outputs": [],
   "source": []
  }
 ],
 "metadata": {
  "kernelspec": {
   "display_name": "Python 3 (ipykernel)",
   "language": "python",
   "name": "python3"
  },
  "language_info": {
   "codemirror_mode": {
    "name": "ipython",
    "version": 3
   },
   "file_extension": ".py",
   "mimetype": "text/x-python",
   "name": "python",
   "nbconvert_exporter": "python",
   "pygments_lexer": "ipython3",
   "version": "3.11.4"
  }
 },
 "nbformat": 4,
 "nbformat_minor": 5
}
