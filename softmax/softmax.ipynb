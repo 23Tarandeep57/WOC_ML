{
 "cells": [
  {
   "cell_type": "code",
   "execution_count": 1,
   "id": "fdcc1c30-9252-4820-b06b-886b19ea2900",
   "metadata": {},
   "outputs": [],
   "source": [
    "import numpy as np\n",
    "import pandas as pd\n",
    "import matplotlib.pyplot as plt\n",
    "import random"
   ]
  },
  {
   "cell_type": "code",
   "execution_count": 2,
   "id": "379c5cdf-e545-40f8-b457-448f4d2876b8",
   "metadata": {},
   "outputs": [],
   "source": [
    "df = pd.read_csv(\"Classification_train.csv\")"
   ]
  },
  {
   "cell_type": "code",
   "execution_count": 3,
   "id": "7ab359f6-c302-467a-9d05-679f474a8841",
   "metadata": {},
   "outputs": [
    {
     "data": {
      "text/html": [
       "<div>\n",
       "<style scoped>\n",
       "    .dataframe tbody tr th:only-of-type {\n",
       "        vertical-align: middle;\n",
       "    }\n",
       "\n",
       "    .dataframe tbody tr th {\n",
       "        vertical-align: top;\n",
       "    }\n",
       "\n",
       "    .dataframe thead th {\n",
       "        text-align: right;\n",
       "    }\n",
       "</style>\n",
       "<table border=\"1\" class=\"dataframe\">\n",
       "  <thead>\n",
       "    <tr style=\"text-align: right;\">\n",
       "      <th></th>\n",
       "      <th>label</th>\n",
       "      <th>pixel0</th>\n",
       "      <th>pixel1</th>\n",
       "      <th>pixel2</th>\n",
       "      <th>pixel3</th>\n",
       "      <th>pixel4</th>\n",
       "      <th>pixel5</th>\n",
       "      <th>pixel6</th>\n",
       "      <th>pixel7</th>\n",
       "      <th>pixel8</th>\n",
       "      <th>...</th>\n",
       "      <th>pixel774</th>\n",
       "      <th>pixel775</th>\n",
       "      <th>pixel776</th>\n",
       "      <th>pixel777</th>\n",
       "      <th>pixel778</th>\n",
       "      <th>pixel779</th>\n",
       "      <th>pixel780</th>\n",
       "      <th>pixel781</th>\n",
       "      <th>pixel782</th>\n",
       "      <th>pixel783</th>\n",
       "    </tr>\n",
       "  </thead>\n",
       "  <tbody>\n",
       "    <tr>\n",
       "      <th>0</th>\n",
       "      <td>0</td>\n",
       "      <td>0</td>\n",
       "      <td>0</td>\n",
       "      <td>0</td>\n",
       "      <td>0</td>\n",
       "      <td>0</td>\n",
       "      <td>0</td>\n",
       "      <td>0</td>\n",
       "      <td>0</td>\n",
       "      <td>0</td>\n",
       "      <td>...</td>\n",
       "      <td>0</td>\n",
       "      <td>0</td>\n",
       "      <td>0</td>\n",
       "      <td>0</td>\n",
       "      <td>0</td>\n",
       "      <td>0</td>\n",
       "      <td>0</td>\n",
       "      <td>0</td>\n",
       "      <td>0</td>\n",
       "      <td>0</td>\n",
       "    </tr>\n",
       "    <tr>\n",
       "      <th>1</th>\n",
       "      <td>8</td>\n",
       "      <td>0</td>\n",
       "      <td>0</td>\n",
       "      <td>0</td>\n",
       "      <td>0</td>\n",
       "      <td>0</td>\n",
       "      <td>0</td>\n",
       "      <td>0</td>\n",
       "      <td>0</td>\n",
       "      <td>0</td>\n",
       "      <td>...</td>\n",
       "      <td>0</td>\n",
       "      <td>0</td>\n",
       "      <td>0</td>\n",
       "      <td>0</td>\n",
       "      <td>0</td>\n",
       "      <td>0</td>\n",
       "      <td>0</td>\n",
       "      <td>0</td>\n",
       "      <td>0</td>\n",
       "      <td>0</td>\n",
       "    </tr>\n",
       "    <tr>\n",
       "      <th>2</th>\n",
       "      <td>1</td>\n",
       "      <td>0</td>\n",
       "      <td>0</td>\n",
       "      <td>0</td>\n",
       "      <td>0</td>\n",
       "      <td>0</td>\n",
       "      <td>0</td>\n",
       "      <td>0</td>\n",
       "      <td>0</td>\n",
       "      <td>0</td>\n",
       "      <td>...</td>\n",
       "      <td>0</td>\n",
       "      <td>0</td>\n",
       "      <td>0</td>\n",
       "      <td>0</td>\n",
       "      <td>0</td>\n",
       "      <td>0</td>\n",
       "      <td>0</td>\n",
       "      <td>0</td>\n",
       "      <td>0</td>\n",
       "      <td>0</td>\n",
       "    </tr>\n",
       "    <tr>\n",
       "      <th>3</th>\n",
       "      <td>7</td>\n",
       "      <td>0</td>\n",
       "      <td>0</td>\n",
       "      <td>0</td>\n",
       "      <td>0</td>\n",
       "      <td>0</td>\n",
       "      <td>0</td>\n",
       "      <td>0</td>\n",
       "      <td>0</td>\n",
       "      <td>0</td>\n",
       "      <td>...</td>\n",
       "      <td>0</td>\n",
       "      <td>0</td>\n",
       "      <td>0</td>\n",
       "      <td>0</td>\n",
       "      <td>0</td>\n",
       "      <td>0</td>\n",
       "      <td>0</td>\n",
       "      <td>0</td>\n",
       "      <td>0</td>\n",
       "      <td>0</td>\n",
       "    </tr>\n",
       "    <tr>\n",
       "      <th>4</th>\n",
       "      <td>7</td>\n",
       "      <td>0</td>\n",
       "      <td>0</td>\n",
       "      <td>0</td>\n",
       "      <td>0</td>\n",
       "      <td>0</td>\n",
       "      <td>0</td>\n",
       "      <td>0</td>\n",
       "      <td>0</td>\n",
       "      <td>0</td>\n",
       "      <td>...</td>\n",
       "      <td>0</td>\n",
       "      <td>0</td>\n",
       "      <td>0</td>\n",
       "      <td>0</td>\n",
       "      <td>0</td>\n",
       "      <td>0</td>\n",
       "      <td>0</td>\n",
       "      <td>0</td>\n",
       "      <td>0</td>\n",
       "      <td>0</td>\n",
       "    </tr>\n",
       "  </tbody>\n",
       "</table>\n",
       "<p>5 rows × 785 columns</p>\n",
       "</div>"
      ],
      "text/plain": [
       "   label  pixel0  pixel1  pixel2  pixel3  pixel4  pixel5  pixel6  pixel7  \\\n",
       "0      0       0       0       0       0       0       0       0       0   \n",
       "1      8       0       0       0       0       0       0       0       0   \n",
       "2      1       0       0       0       0       0       0       0       0   \n",
       "3      7       0       0       0       0       0       0       0       0   \n",
       "4      7       0       0       0       0       0       0       0       0   \n",
       "\n",
       "   pixel8  ...  pixel774  pixel775  pixel776  pixel777  pixel778  pixel779  \\\n",
       "0       0  ...         0         0         0         0         0         0   \n",
       "1       0  ...         0         0         0         0         0         0   \n",
       "2       0  ...         0         0         0         0         0         0   \n",
       "3       0  ...         0         0         0         0         0         0   \n",
       "4       0  ...         0         0         0         0         0         0   \n",
       "\n",
       "   pixel780  pixel781  pixel782  pixel783  \n",
       "0         0         0         0         0  \n",
       "1         0         0         0         0  \n",
       "2         0         0         0         0  \n",
       "3         0         0         0         0  \n",
       "4         0         0         0         0  \n",
       "\n",
       "[5 rows x 785 columns]"
      ]
     },
     "execution_count": 3,
     "metadata": {},
     "output_type": "execute_result"
    }
   ],
   "source": [
    "df.head()"
   ]
  },
  {
   "cell_type": "code",
   "execution_count": 4,
   "id": "8ea70894-711f-4558-ac49-5840cac8f177",
   "metadata": {},
   "outputs": [],
   "source": [
    "x_train = df.sample(frac=0.8, random_state=42)\n",
    "x_test = df.drop(x_train.index)\n",
    "y_train = x_train.pop(\"label\").values\n",
    "y_test = x_test.pop(\"label\").values"
   ]
  },
  {
   "cell_type": "code",
   "execution_count": null,
   "id": "927a5963-625a-41c4-a178-78f9769de969",
   "metadata": {},
   "outputs": [],
   "source": []
  },
  {
   "cell_type": "code",
   "execution_count": 5,
   "id": "a027007c-cb8f-4cda-8b20-950fc9b71e4b",
   "metadata": {},
   "outputs": [],
   "source": [
    "one_hot_y = pd.get_dummies(y_train)\n",
    "one_hot_y = one_hot_y.replace({True: 1, False: 0})"
   ]
  },
  {
   "cell_type": "code",
   "execution_count": 6,
   "id": "94c18595-0566-41e0-80b5-3cd1640517d0",
   "metadata": {},
   "outputs": [
    {
     "data": {
      "text/html": [
       "<div>\n",
       "<style scoped>\n",
       "    .dataframe tbody tr th:only-of-type {\n",
       "        vertical-align: middle;\n",
       "    }\n",
       "\n",
       "    .dataframe tbody tr th {\n",
       "        vertical-align: top;\n",
       "    }\n",
       "\n",
       "    .dataframe thead th {\n",
       "        text-align: right;\n",
       "    }\n",
       "</style>\n",
       "<table border=\"1\" class=\"dataframe\">\n",
       "  <thead>\n",
       "    <tr style=\"text-align: right;\">\n",
       "      <th></th>\n",
       "      <th>0</th>\n",
       "      <th>1</th>\n",
       "      <th>2</th>\n",
       "      <th>3</th>\n",
       "      <th>4</th>\n",
       "      <th>5</th>\n",
       "      <th>6</th>\n",
       "      <th>7</th>\n",
       "      <th>8</th>\n",
       "      <th>9</th>\n",
       "    </tr>\n",
       "  </thead>\n",
       "  <tbody>\n",
       "    <tr>\n",
       "      <th>0</th>\n",
       "      <td>0</td>\n",
       "      <td>0</td>\n",
       "      <td>0</td>\n",
       "      <td>0</td>\n",
       "      <td>0</td>\n",
       "      <td>0</td>\n",
       "      <td>0</td>\n",
       "      <td>1</td>\n",
       "      <td>0</td>\n",
       "      <td>0</td>\n",
       "    </tr>\n",
       "    <tr>\n",
       "      <th>1</th>\n",
       "      <td>0</td>\n",
       "      <td>0</td>\n",
       "      <td>0</td>\n",
       "      <td>0</td>\n",
       "      <td>0</td>\n",
       "      <td>0</td>\n",
       "      <td>0</td>\n",
       "      <td>0</td>\n",
       "      <td>1</td>\n",
       "      <td>0</td>\n",
       "    </tr>\n",
       "    <tr>\n",
       "      <th>2</th>\n",
       "      <td>0</td>\n",
       "      <td>0</td>\n",
       "      <td>0</td>\n",
       "      <td>0</td>\n",
       "      <td>0</td>\n",
       "      <td>0</td>\n",
       "      <td>1</td>\n",
       "      <td>0</td>\n",
       "      <td>0</td>\n",
       "      <td>0</td>\n",
       "    </tr>\n",
       "    <tr>\n",
       "      <th>3</th>\n",
       "      <td>1</td>\n",
       "      <td>0</td>\n",
       "      <td>0</td>\n",
       "      <td>0</td>\n",
       "      <td>0</td>\n",
       "      <td>0</td>\n",
       "      <td>0</td>\n",
       "      <td>0</td>\n",
       "      <td>0</td>\n",
       "      <td>0</td>\n",
       "    </tr>\n",
       "    <tr>\n",
       "      <th>4</th>\n",
       "      <td>0</td>\n",
       "      <td>0</td>\n",
       "      <td>0</td>\n",
       "      <td>0</td>\n",
       "      <td>0</td>\n",
       "      <td>0</td>\n",
       "      <td>1</td>\n",
       "      <td>0</td>\n",
       "      <td>0</td>\n",
       "      <td>0</td>\n",
       "    </tr>\n",
       "  </tbody>\n",
       "</table>\n",
       "</div>"
      ],
      "text/plain": [
       "   0  1  2  3  4  5  6  7  8  9\n",
       "0  0  0  0  0  0  0  0  1  0  0\n",
       "1  0  0  0  0  0  0  0  0  1  0\n",
       "2  0  0  0  0  0  0  1  0  0  0\n",
       "3  1  0  0  0  0  0  0  0  0  0\n",
       "4  0  0  0  0  0  0  1  0  0  0"
      ]
     },
     "execution_count": 6,
     "metadata": {},
     "output_type": "execute_result"
    }
   ],
   "source": [
    "one_hot_y.head()"
   ]
  },
  {
   "cell_type": "code",
   "execution_count": 7,
   "id": "c3c93857-742a-4ae5-924e-a69f4726cfd8",
   "metadata": {},
   "outputs": [],
   "source": [
    "def initialise(x, num_classes):\n",
    "    m, n = x.shape\n",
    "    w = np.random.rand(n,num_classes)\n",
    "    b = np.zeros(num_classes)\n",
    "    return w, b    "
   ]
  },
  {
   "cell_type": "code",
   "execution_count": 8,
   "id": "c14b5ed5-d0ca-4fd2-812d-35ae6731ede1",
   "metadata": {},
   "outputs": [],
   "source": [
    "def softmax(x, w, b):\n",
    "    if isinstance(b, pd.Series):\n",
    "        b = b.to_numpy()\n",
    "    z = np.dot(x, w) + b.reshape(1, -1)\n",
    "    s = np.exp(z - np.max(z, axis = 1, keepdims = True))\n",
    "    s /= np.sum(s, axis = 1, keepdims = True) \n",
    "    return s"
   ]
  },
  {
   "cell_type": "code",
   "execution_count": 9,
   "id": "c0e2679e-c5d5-43e3-a2e1-543dc281eb18",
   "metadata": {},
   "outputs": [],
   "source": [
    "def cost(x, w, b, y):\n",
    "    y = y.to_numpy()\n",
    "    epsilon = 10e-8\n",
    "    m = x.shape[0]\n",
    "    s = softmax(x , w , b)\n",
    "    cost = -np.sum(y * np.log(s + epsilon))/m\n",
    "    return cost"
   ]
  },
  {
   "cell_type": "code",
   "execution_count": 10,
   "id": "a215242a-37e9-4b3c-9727-7a7c1093a75a",
   "metadata": {},
   "outputs": [],
   "source": [
    "def derivatives(x, y, w, b):\n",
    "    m, n = x.shape\n",
    "    s = softmax(x, w, b)\n",
    "    err = s - y\n",
    "    dj_dw = np.dot(x.T, err)/m\n",
    "    dj_db = np.sum(err, axis=0)/m\n",
    "    return dj_dw, dj_db"
   ]
  },
  {
   "cell_type": "code",
   "execution_count": 11,
   "id": "ee13abb3-3877-41de-846a-3739c08f3f1f",
   "metadata": {},
   "outputs": [],
   "source": [
    "def update(x, y, w, b, aplha):\n",
    "    dj_dw , dj_db = derivatives(x, y, w, b)\n",
    "    w = w - aplha*dj_dw\n",
    "    b = b - alpha*dj_db\n",
    "    return w, b"
   ]
  },
  {
   "cell_type": "code",
   "execution_count": null,
   "id": "d5e2cc2d-69ea-4bab-8710-d08248adf6e4",
   "metadata": {},
   "outputs": [],
   "source": []
  },
  {
   "cell_type": "code",
   "execution_count": 12,
   "id": "323988c4-5bd1-42f2-a64e-6856bdf465f5",
   "metadata": {},
   "outputs": [
    {
     "name": "stdout",
     "output_type": "stream",
     "text": [
      "iteration 0: cost 7.65242165757943\n",
      "iteration 10: cost 1.4775386880226518\n",
      "iteration 20: cost 1.1933267730213237\n",
      "iteration 30: cost 1.0477167510220156\n",
      "iteration 40: cost 0.9744868903910231\n",
      "iteration 50: cost 0.9191443321625639\n",
      "iteration 60: cost 0.8815779725515187\n",
      "iteration 70: cost 0.8626867579223056\n",
      "iteration 80: cost 0.8410890704755503\n",
      "iteration 90: cost 0.8243305322721604\n",
      "iteration 100: cost 0.8058907828903714\n",
      "iteration 110: cost 0.7959848906379708\n",
      "iteration 120: cost 0.7895360488355079\n",
      "iteration 130: cost 0.7810413893429503\n",
      "iteration 140: cost 0.7715677396128332\n",
      "iteration 150: cost 0.765321697647238\n",
      "iteration 160: cost 0.7618207377465172\n",
      "iteration 170: cost 0.7590567346243396\n",
      "iteration 180: cost 0.7573051006253662\n",
      "iteration 190: cost 0.7558560424551253\n"
     ]
    }
   ],
   "source": [
    "num = len(np.unique(y_train))\n",
    "w, b = initialise(x_train, num)\n",
    "num_iters = 200\n",
    "j_his= []\n",
    "for i in range(num_iters):\n",
    "    alpha = .03*((.9)**(i/5))\n",
    "    w, b = update(x_train, one_hot_y, w, b, alpha)\n",
    "    j = cost(x_train, w, b, one_hot_y)\n",
    "    if (i%10 == 0):\n",
    "        print(f\"iteration {i}: cost {j}\")\n",
    "    j_his.append(j)\n",
    "    "
   ]
  },
  {
   "cell_type": "code",
   "execution_count": 13,
   "id": "5d12b721-76f4-4a2c-8c9e-c94ae79efc97",
   "metadata": {},
   "outputs": [
    {
     "data": {
      "text/plain": [
       "[<matplotlib.lines.Line2D at 0x19cd3d960d0>]"
      ]
     },
     "execution_count": 13,
     "metadata": {},
     "output_type": "execute_result"
    },
    {
     "data": {
      "image/png": "[encoded data removed]",
      "text/plain": [
       "<Figure size 640x480 with 1 Axes>"
      ]
     },
     "metadata": {},
     "output_type": "display_data"
    }
   ],
   "source": [
    "plt.plot(np.arange(num_iters), j_his)"
   ]
  },
  {
   "cell_type": "code",
   "execution_count": 14,
   "id": "6690be1f-ebf1-4098-9b8e-7af51d288ec6",
   "metadata": {},
   "outputs": [],
   "source": [
    "s = softmax(x_train, w, b)\n",
    "y_hat = np.argmax(s, axis = 1)\n",
    "sum = np.sum(y_train == y_hat)"
   ]
  },
  {
   "cell_type": "code",
   "execution_count": 15,
   "id": "1bf3e50d-65ee-47c9-860a-bc0251d6f6ff",
   "metadata": {},
   "outputs": [
    {
     "name": "stdout",
     "output_type": "stream",
     "text": [
      "accuracy on trainging set: 0.9512916666666666\n"
     ]
    }
   ],
   "source": [
    "print(f\"accuracy on trainging set: {sum/len(y_train)}\")"
   ]
  },
  {
   "cell_type": "code",
   "execution_count": 16,
   "id": "598ca79d-ad73-46de-9bf0-4eebd433b12c",
   "metadata": {},
   "outputs": [],
   "source": [
    "s_test = softmax(x_test, w, b)\n",
    "y_hat_test = np.argmax(s_test, axis = 1)\n",
    "sum_test = np.sum(y_test == y_hat_test)"
   ]
  },
  {
   "cell_type": "code",
   "execution_count": 17,
   "id": "f1ec9433-f734-4315-a70c-7c620414239e",
   "metadata": {},
   "outputs": [
    {
     "name": "stdout",
     "output_type": "stream",
     "text": [
      "accuracy on training set: 0.9423333333333334\n"
     ]
    }
   ],
   "source": [
    "print(f\"accuracy on training set: {sum_test/len(y_test)}\")"
   ]
  },
  {
   "cell_type": "code",
   "execution_count": null,
   "id": "9fed7634-d1f2-4dcf-a7a7-0ff28a337b71",
   "metadata": {},
   "outputs": [],
   "source": []
  },
  {
   "cell_type": "code",
   "execution_count": null,
   "id": "664d7c88-aacc-4997-a150-1a5fc1694411",
   "metadata": {},
   "outputs": [],
   "source": []
  },
  {
   "cell_type": "code",
   "execution_count": null,
   "id": "5466a325-5e54-48e8-8129-e29af4d99ae5",
   "metadata": {},
   "outputs": [],
   "source": []
  },
  {
   "cell_type": "code",
   "execution_count": null,
   "id": "62f57db5-31dd-467b-9431-1fc22696d4c3",
   "metadata": {},
   "outputs": [],
   "source": []
  },
  {
   "cell_type": "code",
   "execution_count": null,
   "id": "b5d4c93b-4588-4765-9d71-39286f6ebc8e",
   "metadata": {},
   "outputs": [],
   "source": []
  },
  {
   "cell_type": "code",
   "execution_count": null,
   "id": "eb6189f8-9203-4218-84ad-20d3a9ff2cb2",
   "metadata": {},
   "outputs": [],
   "source": []
  }
 ],
 "metadata": {
  "kernelspec": {
   "display_name": "Python 3 (ipykernel)",
   "language": "python",
   "name": "python3"
  },
  "language_info": {
   "codemirror_mode": {
    "name": "ipython",
    "version": 3
   },
   "file_extension": ".py",
   "mimetype": "text/x-python",
   "name": "python",
   "nbconvert_exporter": "python",
   "pygments_lexer": "ipython3",
   "version": "3.11.4"
  }
 },
 "nbformat": 4,
 "nbformat_minor": 5
}
